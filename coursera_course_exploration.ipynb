{
 "cells": [
  {
   "cell_type": "markdown",
   "metadata": {},
   "source": [
    "# Coursera Course Dataset Analysis\n",
    "\n",
    "This analysis explores a Coursera dataset to uncover insights into course popularity, ratings, certificate types, and difficulty levels. Key objectives include understanding trends in student enrollment, identifying high-performing organizations, and analyzing the relationship between course features and student engagement.\n",
    "\n",
    "Through data cleaning, exploratory data analysis (EDA), and visualization, the analysis aims to:\n",
    "\n",
    " - Highlight the most popular courses and organizations.\n",
    " - Examine the distribution of course difficulty, ratings, and certificate offerings.\n",
    " - Reveal correlations between enrollment, ratings, and course attributes.\n",
    "\n",
    "The insights provide actionable recommendations for optimizing course design, improving student engagement, and aligning offerings with learner preferences."
   ]
  },
  {
   "cell_type": "code",
   "execution_count": 110,
   "metadata": {},
   "outputs": [
    {
     "name": "stdout",
     "output_type": "stream",
     "text": [
      "Setup Complete\n"
     ]
    }
   ],
   "source": [
    "import pandas as pd\n",
    "pd.plotting.register_matplotlib_converters()\n",
    "import matplotlib.pyplot as plt\n",
    "import seaborn as sns\n",
    "import pandas as pd\n",
    "import plotly\n",
    "import plotly.express as px\n",
    "import plotly.graph_objects as go\n",
    "from plotly.subplots import make_subplots\n",
    "from scipy import stats\n",
    "\n",
    "%matplotlib inline\n",
    "print('Setup Complete')"
   ]
  },
  {
   "cell_type": "code",
   "execution_count": null,
   "metadata": {},
   "outputs": [
    {
     "data": {
      "text/html": [
       "<div>\n",
       "<style scoped>\n",
       "    .dataframe tbody tr th:only-of-type {\n",
       "        vertical-align: middle;\n",
       "    }\n",
       "\n",
       "    .dataframe tbody tr th {\n",
       "        vertical-align: top;\n",
       "    }\n",
       "\n",
       "    .dataframe thead th {\n",
       "        text-align: right;\n",
       "    }\n",
       "</style>\n",
       "<table border=\"1\" class=\"dataframe\">\n",
       "  <thead>\n",
       "    <tr style=\"text-align: right;\">\n",
       "      <th></th>\n",
       "      <th>course_title</th>\n",
       "      <th>course_organization</th>\n",
       "      <th>course_Certificate_type</th>\n",
       "      <th>course_rating</th>\n",
       "      <th>course_difficulty</th>\n",
       "      <th>course_students_enrolled</th>\n",
       "    </tr>\n",
       "  </thead>\n",
       "  <tbody>\n",
       "    <tr>\n",
       "      <th>134</th>\n",
       "      <td>(ISC)² Systems Security Certified Practitioner...</td>\n",
       "      <td>(ISC)²</td>\n",
       "      <td>SPECIALIZATION</td>\n",
       "      <td>4.7</td>\n",
       "      <td>Beginner</td>\n",
       "      <td>5.3k</td>\n",
       "    </tr>\n",
       "    <tr>\n",
       "      <th>743</th>\n",
       "      <td>A Crash Course in Causality:  Inferring Causal...</td>\n",
       "      <td>University of Pennsylvania</td>\n",
       "      <td>COURSE</td>\n",
       "      <td>4.7</td>\n",
       "      <td>Intermediate</td>\n",
       "      <td>17k</td>\n",
       "    </tr>\n",
       "    <tr>\n",
       "      <th>874</th>\n",
       "      <td>A Crash Course in Data Science</td>\n",
       "      <td>Johns Hopkins University</td>\n",
       "      <td>COURSE</td>\n",
       "      <td>4.5</td>\n",
       "      <td>Mixed</td>\n",
       "      <td>130k</td>\n",
       "    </tr>\n",
       "  </tbody>\n",
       "</table>\n",
       "</div>"
      ],
      "text/plain": [
       "                                          course_title  \\\n",
       "134  (ISC)² Systems Security Certified Practitioner...   \n",
       "743  A Crash Course in Causality:  Inferring Causal...   \n",
       "874                     A Crash Course in Data Science   \n",
       "\n",
       "            course_organization course_Certificate_type  course_rating  \\\n",
       "134                      (ISC)²          SPECIALIZATION            4.7   \n",
       "743  University of Pennsylvania                  COURSE            4.7   \n",
       "874    Johns Hopkins University                  COURSE            4.5   \n",
       "\n",
       "    course_difficulty course_students_enrolled  \n",
       "134          Beginner                     5.3k  \n",
       "743      Intermediate                      17k  \n",
       "874             Mixed                     130k  "
      ]
     },
     "execution_count": 111,
     "metadata": {},
     "output_type": "execute_result"
    }
   ],
   "source": [
    "courses = pd.read_csv(\"Coursera_data.csv\", index_col=[0])\n",
    "courses[:3]"
   ]
  },
  {
   "cell_type": "code",
   "execution_count": null,
   "metadata": {},
   "outputs": [
    {
     "data": {
      "text/html": [
       "<div>\n",
       "<style scoped>\n",
       "    .dataframe tbody tr th:only-of-type {\n",
       "        vertical-align: middle;\n",
       "    }\n",
       "\n",
       "    .dataframe tbody tr th {\n",
       "        vertical-align: top;\n",
       "    }\n",
       "\n",
       "    .dataframe thead th {\n",
       "        text-align: right;\n",
       "    }\n",
       "</style>\n",
       "<table border=\"1\" class=\"dataframe\">\n",
       "  <thead>\n",
       "    <tr style=\"text-align: right;\">\n",
       "      <th></th>\n",
       "      <th>title</th>\n",
       "      <th>organization</th>\n",
       "      <th>certificate_type</th>\n",
       "      <th>rating</th>\n",
       "      <th>difficulty</th>\n",
       "      <th>students_enrolled</th>\n",
       "    </tr>\n",
       "  </thead>\n",
       "  <tbody>\n",
       "    <tr>\n",
       "      <th>134</th>\n",
       "      <td>(ISC)² Systems Security Certified Practitioner...</td>\n",
       "      <td>(ISC)²</td>\n",
       "      <td>Specialization</td>\n",
       "      <td>4.7</td>\n",
       "      <td>Beginner</td>\n",
       "      <td>5.3k</td>\n",
       "    </tr>\n",
       "    <tr>\n",
       "      <th>743</th>\n",
       "      <td>A Crash Course in Causality:  Inferring Causal...</td>\n",
       "      <td>University of Pennsylvania</td>\n",
       "      <td>Course</td>\n",
       "      <td>4.7</td>\n",
       "      <td>Intermediate</td>\n",
       "      <td>17k</td>\n",
       "    </tr>\n",
       "    <tr>\n",
       "      <th>874</th>\n",
       "      <td>A Crash Course in Data Science</td>\n",
       "      <td>Johns Hopkins University</td>\n",
       "      <td>Course</td>\n",
       "      <td>4.5</td>\n",
       "      <td>Mixed</td>\n",
       "      <td>130k</td>\n",
       "    </tr>\n",
       "    <tr>\n",
       "      <th>413</th>\n",
       "      <td>A Law Student's Toolkit</td>\n",
       "      <td>Yale University</td>\n",
       "      <td>Course</td>\n",
       "      <td>4.7</td>\n",
       "      <td>Mixed</td>\n",
       "      <td>91k</td>\n",
       "    </tr>\n",
       "    <tr>\n",
       "      <th>635</th>\n",
       "      <td>A Life of Happiness and Fulfillment</td>\n",
       "      <td>Indian School of Business</td>\n",
       "      <td>Course</td>\n",
       "      <td>4.8</td>\n",
       "      <td>Mixed</td>\n",
       "      <td>320k</td>\n",
       "    </tr>\n",
       "  </tbody>\n",
       "</table>\n",
       "</div>"
      ],
      "text/plain": [
       "                                                 title  \\\n",
       "134  (ISC)² Systems Security Certified Practitioner...   \n",
       "743  A Crash Course in Causality:  Inferring Causal...   \n",
       "874                     A Crash Course in Data Science   \n",
       "413                            A Law Student's Toolkit   \n",
       "635                A Life of Happiness and Fulfillment   \n",
       "\n",
       "                   organization certificate_type  rating    difficulty  \\\n",
       "134                      (ISC)²   Specialization     4.7      Beginner   \n",
       "743  University of Pennsylvania           Course     4.7  Intermediate   \n",
       "874    Johns Hopkins University           Course     4.5         Mixed   \n",
       "413             Yale University           Course     4.7         Mixed   \n",
       "635   Indian School of Business           Course     4.8         Mixed   \n",
       "\n",
       "    students_enrolled  \n",
       "134              5.3k  \n",
       "743               17k  \n",
       "874              130k  \n",
       "413               91k  \n",
       "635              320k  "
      ]
     },
     "execution_count": 112,
     "metadata": {},
     "output_type": "execute_result"
    }
   ],
   "source": [
    "# Remove 'course_' prefix from all column names\n",
    "courses.columns = courses.columns.str.replace(\"course_\", \"\", regex=False).str.lower()\n",
    "# Make certificate_type lowercase\n",
    "courses.certificate_type = courses.certificate_type.str.capitalize()\n",
    "courses.head()"
   ]
  },
  {
   "cell_type": "code",
   "execution_count": 113,
   "metadata": {},
   "outputs": [
    {
     "data": {
      "text/plain": [
       "array(['Specialization', 'Course', 'Professional certificate'],\n",
       "      dtype=object)"
      ]
     },
     "execution_count": 113,
     "metadata": {},
     "output_type": "execute_result"
    }
   ],
   "source": [
    "courses.certificate_type.unique()"
   ]
  },
  {
   "cell_type": "markdown",
   "metadata": {},
   "source": [
    "# Data cleaning"
   ]
  },
  {
   "cell_type": "code",
   "execution_count": 114,
   "metadata": {},
   "outputs": [
    {
     "data": {
      "text/plain": [
       "(891, 6)"
      ]
     },
     "execution_count": 114,
     "metadata": {},
     "output_type": "execute_result"
    }
   ],
   "source": [
    "courses.shape"
   ]
  },
  {
   "cell_type": "code",
   "execution_count": 115,
   "metadata": {},
   "outputs": [
    {
     "name": "stdout",
     "output_type": "stream",
     "text": [
      "<class 'pandas.core.frame.DataFrame'>\n",
      "Int64Index: 891 entries, 134 to 163\n",
      "Data columns (total 6 columns):\n",
      " #   Column             Non-Null Count  Dtype  \n",
      "---  ------             --------------  -----  \n",
      " 0   title              891 non-null    object \n",
      " 1   organization       891 non-null    object \n",
      " 2   certificate_type   891 non-null    object \n",
      " 3   rating             891 non-null    float64\n",
      " 4   difficulty         891 non-null    object \n",
      " 5   students_enrolled  891 non-null    object \n",
      "dtypes: float64(1), object(5)\n",
      "memory usage: 48.7+ KB\n"
     ]
    }
   ],
   "source": [
    "courses.info()"
   ]
  },
  {
   "cell_type": "code",
   "execution_count": 116,
   "metadata": {},
   "outputs": [
    {
     "data": {
      "text/plain": [
       "title                0\n",
       "organization         0\n",
       "certificate_type     0\n",
       "rating               0\n",
       "difficulty           0\n",
       "students_enrolled    0\n",
       "dtype: int64"
      ]
     },
     "execution_count": 116,
     "metadata": {},
     "output_type": "execute_result"
    }
   ],
   "source": [
    "courses.isnull().sum()"
   ]
  },
  {
   "cell_type": "code",
   "execution_count": 117,
   "metadata": {},
   "outputs": [
    {
     "data": {
      "text/plain": [
       "False"
      ]
     },
     "execution_count": 117,
     "metadata": {},
     "output_type": "execute_result"
    }
   ],
   "source": [
    "courses.duplicated().any()"
   ]
  },
  {
   "cell_type": "markdown",
   "metadata": {},
   "source": [
    "Checking duplicates in title"
   ]
  },
  {
   "cell_type": "code",
   "execution_count": 118,
   "metadata": {},
   "outputs": [
    {
     "data": {
      "text/html": [
       "<div>\n",
       "<style scoped>\n",
       "    .dataframe tbody tr th:only-of-type {\n",
       "        vertical-align: middle;\n",
       "    }\n",
       "\n",
       "    .dataframe tbody tr th {\n",
       "        vertical-align: top;\n",
       "    }\n",
       "\n",
       "    .dataframe thead th {\n",
       "        text-align: right;\n",
       "    }\n",
       "</style>\n",
       "<table border=\"1\" class=\"dataframe\">\n",
       "  <thead>\n",
       "    <tr style=\"text-align: right;\">\n",
       "      <th></th>\n",
       "      <th>title</th>\n",
       "      <th>organization</th>\n",
       "      <th>certificate_type</th>\n",
       "      <th>rating</th>\n",
       "      <th>difficulty</th>\n",
       "      <th>students_enrolled</th>\n",
       "    </tr>\n",
       "  </thead>\n",
       "  <tbody>\n",
       "    <tr>\n",
       "      <th>756</th>\n",
       "      <td>Developing Your Musicianship</td>\n",
       "      <td>Berklee College of Music</td>\n",
       "      <td>Course</td>\n",
       "      <td>4.8</td>\n",
       "      <td>Mixed</td>\n",
       "      <td>41k</td>\n",
       "    </tr>\n",
       "    <tr>\n",
       "      <th>205</th>\n",
       "      <td>Developing Your Musicianship</td>\n",
       "      <td>Berklee College of Music</td>\n",
       "      <td>Specialization</td>\n",
       "      <td>4.8</td>\n",
       "      <td>Beginner</td>\n",
       "      <td>54k</td>\n",
       "    </tr>\n",
       "    <tr>\n",
       "      <th>181</th>\n",
       "      <td>Machine Learning</td>\n",
       "      <td>University of Washington</td>\n",
       "      <td>Specialization</td>\n",
       "      <td>4.6</td>\n",
       "      <td>Intermediate</td>\n",
       "      <td>290k</td>\n",
       "    </tr>\n",
       "    <tr>\n",
       "      <th>6</th>\n",
       "      <td>Machine Learning</td>\n",
       "      <td>Stanford University</td>\n",
       "      <td>Course</td>\n",
       "      <td>4.9</td>\n",
       "      <td>Mixed</td>\n",
       "      <td>3.2m</td>\n",
       "    </tr>\n",
       "    <tr>\n",
       "      <th>241</th>\n",
       "      <td>Marketing Digital</td>\n",
       "      <td>Universidade de São Paulo</td>\n",
       "      <td>Course</td>\n",
       "      <td>4.8</td>\n",
       "      <td>Beginner</td>\n",
       "      <td>81k</td>\n",
       "    </tr>\n",
       "    <tr>\n",
       "      <th>325</th>\n",
       "      <td>Marketing Digital</td>\n",
       "      <td>Universidad Austral</td>\n",
       "      <td>Specialization</td>\n",
       "      <td>4.7</td>\n",
       "      <td>Beginner</td>\n",
       "      <td>39k</td>\n",
       "    </tr>\n",
       "  </tbody>\n",
       "</table>\n",
       "</div>"
      ],
      "text/plain": [
       "                            title               organization certificate_type  \\\n",
       "756  Developing Your Musicianship   Berklee College of Music           Course   \n",
       "205  Developing Your Musicianship   Berklee College of Music   Specialization   \n",
       "181              Machine Learning   University of Washington   Specialization   \n",
       "6                Machine Learning        Stanford University           Course   \n",
       "241             Marketing Digital  Universidade de São Paulo           Course   \n",
       "325             Marketing Digital        Universidad Austral   Specialization   \n",
       "\n",
       "     rating    difficulty students_enrolled  \n",
       "756     4.8         Mixed               41k  \n",
       "205     4.8      Beginner               54k  \n",
       "181     4.6  Intermediate              290k  \n",
       "6       4.9         Mixed              3.2m  \n",
       "241     4.8      Beginner               81k  \n",
       "325     4.7      Beginner               39k  "
      ]
     },
     "execution_count": 118,
     "metadata": {},
     "output_type": "execute_result"
    }
   ],
   "source": [
    "map = courses.duplicated(\"title\", keep=False)\n",
    "courses[map]"
   ]
  },
  {
   "cell_type": "markdown",
   "metadata": {},
   "source": [
    "No duplicates or Null values"
   ]
  },
  {
   "cell_type": "code",
   "execution_count": 119,
   "metadata": {},
   "outputs": [],
   "source": [
    "# removing any possible excess spaces\n",
    "courses = courses.applymap(lambda x: x.strip() if isinstance(x, str) else x)"
   ]
  },
  {
   "cell_type": "code",
   "execution_count": null,
   "metadata": {},
   "outputs": [
    {
     "data": {
      "text/html": [
       "<div>\n",
       "<style scoped>\n",
       "    .dataframe tbody tr th:only-of-type {\n",
       "        vertical-align: middle;\n",
       "    }\n",
       "\n",
       "    .dataframe tbody tr th {\n",
       "        vertical-align: top;\n",
       "    }\n",
       "\n",
       "    .dataframe thead th {\n",
       "        text-align: right;\n",
       "    }\n",
       "</style>\n",
       "<table border=\"1\" class=\"dataframe\">\n",
       "  <thead>\n",
       "    <tr style=\"text-align: right;\">\n",
       "      <th></th>\n",
       "      <th>title</th>\n",
       "      <th>organization</th>\n",
       "      <th>certificate_type</th>\n",
       "      <th>rating</th>\n",
       "      <th>difficulty</th>\n",
       "      <th>students_enrolled</th>\n",
       "    </tr>\n",
       "  </thead>\n",
       "  <tbody>\n",
       "    <tr>\n",
       "      <th>134</th>\n",
       "      <td>(ISC)² Systems Security Certified Practitioner...</td>\n",
       "      <td>(ISC)²</td>\n",
       "      <td>Specialization</td>\n",
       "      <td>4.7</td>\n",
       "      <td>Beginner</td>\n",
       "      <td>5300</td>\n",
       "    </tr>\n",
       "    <tr>\n",
       "      <th>743</th>\n",
       "      <td>A Crash Course in Causality:  Inferring Causal...</td>\n",
       "      <td>University of Pennsylvania</td>\n",
       "      <td>Course</td>\n",
       "      <td>4.7</td>\n",
       "      <td>Intermediate</td>\n",
       "      <td>17000</td>\n",
       "    </tr>\n",
       "    <tr>\n",
       "      <th>874</th>\n",
       "      <td>A Crash Course in Data Science</td>\n",
       "      <td>Johns Hopkins University</td>\n",
       "      <td>Course</td>\n",
       "      <td>4.5</td>\n",
       "      <td>Mixed</td>\n",
       "      <td>130000</td>\n",
       "    </tr>\n",
       "    <tr>\n",
       "      <th>413</th>\n",
       "      <td>A Law Student's Toolkit</td>\n",
       "      <td>Yale University</td>\n",
       "      <td>Course</td>\n",
       "      <td>4.7</td>\n",
       "      <td>Mixed</td>\n",
       "      <td>91000</td>\n",
       "    </tr>\n",
       "    <tr>\n",
       "      <th>635</th>\n",
       "      <td>A Life of Happiness and Fulfillment</td>\n",
       "      <td>Indian School of Business</td>\n",
       "      <td>Course</td>\n",
       "      <td>4.8</td>\n",
       "      <td>Mixed</td>\n",
       "      <td>320000</td>\n",
       "    </tr>\n",
       "  </tbody>\n",
       "</table>\n",
       "</div>"
      ],
      "text/plain": [
       "                                                 title  \\\n",
       "134  (ISC)² Systems Security Certified Practitioner...   \n",
       "743  A Crash Course in Causality:  Inferring Causal...   \n",
       "874                     A Crash Course in Data Science   \n",
       "413                            A Law Student's Toolkit   \n",
       "635                A Life of Happiness and Fulfillment   \n",
       "\n",
       "                   organization certificate_type  rating    difficulty  \\\n",
       "134                      (ISC)²   Specialization     4.7      Beginner   \n",
       "743  University of Pennsylvania           Course     4.7  Intermediate   \n",
       "874    Johns Hopkins University           Course     4.5         Mixed   \n",
       "413             Yale University           Course     4.7         Mixed   \n",
       "635   Indian School of Business           Course     4.8         Mixed   \n",
       "\n",
       "     students_enrolled  \n",
       "134               5300  \n",
       "743              17000  \n",
       "874             130000  \n",
       "413              91000  \n",
       "635             320000  "
      ]
     },
     "execution_count": 120,
     "metadata": {},
     "output_type": "execute_result"
    }
   ],
   "source": [
    "# Suffix multipliers\n",
    "suffix_multipliers = {\"k\": 1_000, \"m\": 1_000_000}\n",
    "\n",
    "\n",
    "# Convert to numeric\n",
    "def convert_to_num(value):\n",
    "    return int(float(value[:-1]) * suffix_multipliers[value[-1]])\n",
    "\n",
    "\n",
    "# Apply conversion\n",
    "courses[\"students_enrolled\"] = courses[\"students_enrolled\"].apply(convert_to_num)\n",
    "courses.head()"
   ]
  },
  {
   "cell_type": "markdown",
   "metadata": {},
   "source": [
    "Outliers"
   ]
  },
  {
   "cell_type": "code",
   "execution_count": 121,
   "metadata": {},
   "outputs": [
    {
     "data": {
      "image/png": "[encoded data removed]",
      "text/plain": [
       "<Figure size 1000x300 with 2 Axes>"
      ]
     },
     "metadata": {},
     "output_type": "display_data"
    }
   ],
   "source": [
    "fig, axes = plt.subplots(1, 2, figsize=(10, 3))\n",
    "\n",
    "# Plot Enrollment Count Distribution with Outliers\n",
    "sns.boxplot(x=courses.students_enrolled, color=\"skyblue\", ax=axes[0])\n",
    "axes[0].set_title(\"Enrollment Count Distribution with Outliers\")\n",
    "axes[0].set_xlabel(\"Enrollment Count\")\n",
    "\n",
    "# Plot Rating Distribution with Outliers\n",
    "sns.boxplot(x=courses.rating, color=\"skyblue\", ax=axes[1])\n",
    "axes[1].set_title(\"Rating Distribution with Outliers\")\n",
    "axes[1].set_xlabel(\"Rating\")\n",
    "\n",
    "plt.tight_layout()"
   ]
  },
  {
   "cell_type": "markdown",
   "metadata": {},
   "source": [
    "- Very few outliers, no data issue."
   ]
  },
  {
   "cell_type": "markdown",
   "metadata": {},
   "source": [
    "Removing outliers for some general analysis in future"
   ]
  },
  {
   "cell_type": "code",
   "execution_count": null,
   "metadata": {},
   "outputs": [
    {
     "data": {
      "image/png": "[encoded data removed]",
      "text/plain": [
       "<Figure size 1300x400 with 2 Axes>"
      ]
     },
     "metadata": {},
     "output_type": "display_data"
    }
   ],
   "source": [
    "# Calculating IQR bounds\n",
    "def filter_iqr(column):\n",
    "    q1, q3 = column.quantile([0.25, 0.75])\n",
    "    iqr = q3 - q1\n",
    "    return (column >= q1 - 1.5 * iqr) & (column <= q3 + 1.5 * iqr)\n",
    "\n",
    "\n",
    "# Filtering out outliers\n",
    "cleaned_courses_iqr = courses[\n",
    "    filter_iqr(courses[\"students_enrolled\"]) & filter_iqr(courses[\"rating\"])\n",
    "]\n",
    "\n",
    "# Plotting\n",
    "fig, axes = plt.subplots(1, 2, figsize=(13, 4))\n",
    "\n",
    "\n",
    "# Plot Enrollment Count Distribution without Outliers\n",
    "sns.boxplot(x=cleaned_courses_iqr.students_enrolled, color=\"skyblue\", ax=axes[0])\n",
    "axes[0].set_title(\"Enrollment Count Distribution without Outliers\")\n",
    "axes[0].set_xlabel(\"Enrollment Count\")\n",
    "\n",
    "# Plot Rating Distribution without Outliers\n",
    "sns.boxplot(x=cleaned_courses_iqr.rating, color=\"skyblue\", ax=axes[1])\n",
    "axes[1].set_title(\"Rating Distribution without Outliers\")\n",
    "axes[1].set_xlabel(\"Rating\")\n",
    "\n",
    "# Display the plots\n",
    "plt.tight_layout()"
   ]
  },
  {
   "cell_type": "markdown",
   "metadata": {},
   "source": [
    "# EDA"
   ]
  },
  {
   "cell_type": "markdown",
   "metadata": {},
   "source": [
    "### General Overview"
   ]
  },
  {
   "cell_type": "code",
   "execution_count": 123,
   "metadata": {},
   "outputs": [
    {
     "data": {
      "text/html": [
       "<div>\n",
       "<style scoped>\n",
       "    .dataframe tbody tr th:only-of-type {\n",
       "        vertical-align: middle;\n",
       "    }\n",
       "\n",
       "    .dataframe tbody tr th {\n",
       "        vertical-align: top;\n",
       "    }\n",
       "\n",
       "    .dataframe thead th {\n",
       "        text-align: right;\n",
       "    }\n",
       "</style>\n",
       "<table border=\"1\" class=\"dataframe\">\n",
       "  <thead>\n",
       "    <tr style=\"text-align: right;\">\n",
       "      <th></th>\n",
       "      <th>title</th>\n",
       "      <th>organization</th>\n",
       "      <th>certificate_type</th>\n",
       "      <th>rating</th>\n",
       "      <th>difficulty</th>\n",
       "      <th>students_enrolled</th>\n",
       "    </tr>\n",
       "  </thead>\n",
       "  <tbody>\n",
       "    <tr>\n",
       "      <th>count</th>\n",
       "      <td>891</td>\n",
       "      <td>891</td>\n",
       "      <td>891</td>\n",
       "      <td>891.000000</td>\n",
       "      <td>891</td>\n",
       "      <td>8.910000e+02</td>\n",
       "    </tr>\n",
       "    <tr>\n",
       "      <th>unique</th>\n",
       "      <td>888</td>\n",
       "      <td>154</td>\n",
       "      <td>3</td>\n",
       "      <td>NaN</td>\n",
       "      <td>4</td>\n",
       "      <td>NaN</td>\n",
       "    </tr>\n",
       "    <tr>\n",
       "      <th>top</th>\n",
       "      <td>Developing Your Musicianship</td>\n",
       "      <td>University of Pennsylvania</td>\n",
       "      <td>Course</td>\n",
       "      <td>NaN</td>\n",
       "      <td>Beginner</td>\n",
       "      <td>NaN</td>\n",
       "    </tr>\n",
       "    <tr>\n",
       "      <th>freq</th>\n",
       "      <td>2</td>\n",
       "      <td>59</td>\n",
       "      <td>582</td>\n",
       "      <td>NaN</td>\n",
       "      <td>487</td>\n",
       "      <td>NaN</td>\n",
       "    </tr>\n",
       "    <tr>\n",
       "      <th>mean</th>\n",
       "      <td>NaN</td>\n",
       "      <td>NaN</td>\n",
       "      <td>NaN</td>\n",
       "      <td>4.677329</td>\n",
       "      <td>NaN</td>\n",
       "      <td>9.055208e+04</td>\n",
       "    </tr>\n",
       "    <tr>\n",
       "      <th>std</th>\n",
       "      <td>NaN</td>\n",
       "      <td>NaN</td>\n",
       "      <td>NaN</td>\n",
       "      <td>0.162225</td>\n",
       "      <td>NaN</td>\n",
       "      <td>1.819365e+05</td>\n",
       "    </tr>\n",
       "    <tr>\n",
       "      <th>min</th>\n",
       "      <td>NaN</td>\n",
       "      <td>NaN</td>\n",
       "      <td>NaN</td>\n",
       "      <td>3.300000</td>\n",
       "      <td>NaN</td>\n",
       "      <td>1.500000e+03</td>\n",
       "    </tr>\n",
       "    <tr>\n",
       "      <th>25%</th>\n",
       "      <td>NaN</td>\n",
       "      <td>NaN</td>\n",
       "      <td>NaN</td>\n",
       "      <td>4.600000</td>\n",
       "      <td>NaN</td>\n",
       "      <td>1.750000e+04</td>\n",
       "    </tr>\n",
       "    <tr>\n",
       "      <th>50%</th>\n",
       "      <td>NaN</td>\n",
       "      <td>NaN</td>\n",
       "      <td>NaN</td>\n",
       "      <td>4.700000</td>\n",
       "      <td>NaN</td>\n",
       "      <td>4.200000e+04</td>\n",
       "    </tr>\n",
       "    <tr>\n",
       "      <th>75%</th>\n",
       "      <td>NaN</td>\n",
       "      <td>NaN</td>\n",
       "      <td>NaN</td>\n",
       "      <td>4.800000</td>\n",
       "      <td>NaN</td>\n",
       "      <td>9.950000e+04</td>\n",
       "    </tr>\n",
       "    <tr>\n",
       "      <th>max</th>\n",
       "      <td>NaN</td>\n",
       "      <td>NaN</td>\n",
       "      <td>NaN</td>\n",
       "      <td>5.000000</td>\n",
       "      <td>NaN</td>\n",
       "      <td>3.200000e+06</td>\n",
       "    </tr>\n",
       "  </tbody>\n",
       "</table>\n",
       "</div>"
      ],
      "text/plain": [
       "                               title                organization  \\\n",
       "count                            891                         891   \n",
       "unique                           888                         154   \n",
       "top     Developing Your Musicianship  University of Pennsylvania   \n",
       "freq                               2                          59   \n",
       "mean                             NaN                         NaN   \n",
       "std                              NaN                         NaN   \n",
       "min                              NaN                         NaN   \n",
       "25%                              NaN                         NaN   \n",
       "50%                              NaN                         NaN   \n",
       "75%                              NaN                         NaN   \n",
       "max                              NaN                         NaN   \n",
       "\n",
       "       certificate_type      rating difficulty  students_enrolled  \n",
       "count               891  891.000000        891       8.910000e+02  \n",
       "unique                3         NaN          4                NaN  \n",
       "top              Course         NaN   Beginner                NaN  \n",
       "freq                582         NaN        487                NaN  \n",
       "mean                NaN    4.677329        NaN       9.055208e+04  \n",
       "std                 NaN    0.162225        NaN       1.819365e+05  \n",
       "min                 NaN    3.300000        NaN       1.500000e+03  \n",
       "25%                 NaN    4.600000        NaN       1.750000e+04  \n",
       "50%                 NaN    4.700000        NaN       4.200000e+04  \n",
       "75%                 NaN    4.800000        NaN       9.950000e+04  \n",
       "max                 NaN    5.000000        NaN       3.200000e+06  "
      ]
     },
     "execution_count": 123,
     "metadata": {},
     "output_type": "execute_result"
    }
   ],
   "source": [
    "courses.describe(include=\"all\")"
   ]
  },
  {
   "cell_type": "markdown",
   "metadata": {},
   "source": [
    "Categorical fields"
   ]
  },
  {
   "cell_type": "code",
   "execution_count": 124,
   "metadata": {},
   "outputs": [
    {
     "data": {
      "text/plain": [
       "['title', 'organization', 'certificate_type', 'difficulty']"
      ]
     },
     "execution_count": 124,
     "metadata": {},
     "output_type": "execute_result"
    }
   ],
   "source": [
    "list(courses.select_dtypes(include=\"object\").columns)"
   ]
  },
  {
   "cell_type": "markdown",
   "metadata": {},
   "source": [
    "Numeric fields"
   ]
  },
  {
   "cell_type": "code",
   "execution_count": 125,
   "metadata": {},
   "outputs": [
    {
     "data": {
      "text/plain": [
       "['rating', 'students_enrolled']"
      ]
     },
     "execution_count": 125,
     "metadata": {},
     "output_type": "execute_result"
    }
   ],
   "source": [
    "list(courses.select_dtypes(exclude=\"object\").columns)"
   ]
  },
  {
   "cell_type": "markdown",
   "metadata": {},
   "source": [
    "Number of organizations"
   ]
  },
  {
   "cell_type": "code",
   "execution_count": 126,
   "metadata": {},
   "outputs": [
    {
     "data": {
      "text/plain": [
       "154"
      ]
     },
     "execution_count": 126,
     "metadata": {},
     "output_type": "execute_result"
    }
   ],
   "source": [
    "courses.organization.value_counts().size"
   ]
  },
  {
   "cell_type": "code",
   "execution_count": null,
   "metadata": {},
   "outputs": [
    {
     "data": {
      "text/plain": [
       "Text(0, 0.5, 'Difficulty Level')"
      ]
     },
     "execution_count": 127,
     "metadata": {},
     "output_type": "execute_result"
    },
    {
     "data": {
      "image/png": "[encoded data removed]",
      "text/plain": [
       "<Figure size 800x600 with 1 Axes>"
      ]
     },
     "metadata": {},
     "output_type": "display_data"
    }
   ],
   "source": [
    "fig, ax = plt.subplots(figsize=(8, 6))\n",
    "ax = cleaned_courses_iqr.groupby(\"difficulty\").size().sort_values().plot(kind=\"barh\")\n",
    "for i in range(len(ax.patches)):\n",
    "    if i != 3:\n",
    "        ax.patches[i].set_facecolor(\"grey\")\n",
    "plt.title(\"Majority of courses are for beginners\")\n",
    "plt.ylabel(\"Difficulty Level\")"
   ]
  },
  {
   "cell_type": "markdown",
   "metadata": {},
   "source": [
    "### Rating"
   ]
  },
  {
   "cell_type": "code",
   "execution_count": 128,
   "metadata": {},
   "outputs": [
    {
     "data": {
      "text/plain": [
       "Text(0.5, 0, 'Rating')"
      ]
     },
     "execution_count": 128,
     "metadata": {},
     "output_type": "execute_result"
    },
    {
     "data": {
      "image/png": "[encoded data removed]",
      "text/plain": [
       "<Figure size 640x480 with 1 Axes>"
      ]
     },
     "metadata": {},
     "output_type": "display_data"
    }
   ],
   "source": [
    "rating_counts = cleaned_courses_iqr[\"rating\"].value_counts()\n",
    "rating_counts.sort_index().plot(kind=\"bar\")\n",
    "plt.title(f\"Average Rating: {cleaned_courses_iqr['rating'].mean():.2f}\")\n",
    "plt.ylabel(\"Count\")\n",
    "plt.xlabel(\"Rating\")"
   ]
  },
  {
   "cell_type": "markdown",
   "metadata": {},
   "source": [
    "- Most courses have high rating."
   ]
  },
  {
   "cell_type": "code",
   "execution_count": null,
   "metadata": {},
   "outputs": [
    {
     "data": {
      "image/png": "[encoded data removed]",
      "text/plain": [
       "<Figure size 640x480 with 1 Axes>"
      ]
     },
     "metadata": {},
     "output_type": "display_data"
    }
   ],
   "source": [
    "palette = [\"grey\", \"grey\", \"grey\", \"skyblue\"]  # adjust colors\n",
    "\n",
    "sns.boxplot(x=\"difficulty\", y=\"rating\", data=cleaned_courses_iqr, palette=palette)\n",
    "plt.title(\"Rating by Course Difficulty\")\n",
    "plt.xlabel(\"Difficulty\")\n",
    "plt.ylabel(\"Rating\")\n",
    "plt.show()"
   ]
  },
  {
   "cell_type": "code",
   "execution_count": 130,
   "metadata": {},
   "outputs": [
    {
     "data": {
      "image/png": "[encoded data removed]",
      "text/plain": [
       "<Figure size 640x480 with 1 Axes>"
      ]
     },
     "metadata": {},
     "output_type": "display_data"
    }
   ],
   "source": [
    "palette = [\"skyblue\", \"grey\", \"grey\"]\n",
    "sns.boxplot(\n",
    "    x=\"certificate_type\",\n",
    "    y=\"rating\",\n",
    "    data=cleaned_courses_iqr,\n",
    "    palette=palette,\n",
    ")\n",
    "plt.title(\"Rating by Certificate type\")\n",
    "plt.xlabel(\"Certificate type\")\n",
    "plt.ylabel(\"Rating\")\n",
    "plt.show()"
   ]
  },
  {
   "cell_type": "markdown",
   "metadata": {},
   "source": [
    "### Enrolled count"
   ]
  },
  {
   "cell_type": "code",
   "execution_count": 131,
   "metadata": {},
   "outputs": [
    {
     "data": {
      "image/png": "[encoded data removed]",
      "text/plain": [
       "<Figure size 640x480 with 1 Axes>"
      ]
     },
     "metadata": {},
     "output_type": "display_data"
    }
   ],
   "source": [
    "palette = [\n",
    "    \"grey\",\n",
    "    \"grey\",\n",
    "    \"green\",\n",
    "    \"grey\",\n",
    "]\n",
    "sns.boxplot(\n",
    "    x=\"difficulty\",\n",
    "    y=\"students_enrolled\",\n",
    "    data=cleaned_courses_iqr,\n",
    "    palette=palette,\n",
    ")\n",
    "plt.title(\"Course Difficulty by Enrolled Count\")\n",
    "plt.xlabel(\"Difficulty\")\n",
    "plt.ylabel(\"Enrolled Count\")\n",
    "plt.show()"
   ]
  },
  {
   "cell_type": "code",
   "execution_count": null,
   "metadata": {},
   "outputs": [
    {
     "data": {
      "image/png": "[encoded data removed]",
      "text/plain": [
       "<Figure size 640x480 with 1 Axes>"
      ]
     },
     "metadata": {},
     "output_type": "display_data"
    }
   ],
   "source": [
    "palette = [\"grey\", \"grey\", \"green\"]\n",
    "sns.boxplot(\n",
    "    x=\"certificate_type\",\n",
    "    y=\"students_enrolled\",\n",
    "    data=cleaned_courses_iqr,\n",
    "    palette=palette,\n",
    ")\n",
    "plt.title(\"Certificate type by Enrolled Count\")\n",
    "plt.xlabel(\"Certificate type\")\n",
    "plt.ylabel(\"Enrolled Count\")\n",
    "plt.show()  # pie chart"
   ]
  },
  {
   "cell_type": "markdown",
   "metadata": {},
   "source": [
    "- The most popular type is the Professional Certificate"
   ]
  },
  {
   "cell_type": "markdown",
   "metadata": {},
   "source": [
    "### Top 20 courses"
   ]
  },
  {
   "cell_type": "code",
   "execution_count": 133,
   "metadata": {},
   "outputs": [
    {
     "data": {
      "image/png": "[encoded data removed]",
      "text/plain": [
       "<Figure size 1300x600 with 1 Axes>"
      ]
     },
     "metadata": {},
     "output_type": "display_data"
    }
   ],
   "source": [
    "top_20_courses = (\n",
    "    courses.groupby([\"organization\", \"title\"])\n",
    "    .students_enrolled.sum()\n",
    "    .sort_values(ascending=False)[:20]\n",
    ")\n",
    "\n",
    "# Reverse the order for horizontal bar chart\n",
    "top_20_courses = top_20_courses.iloc[::-1]\n",
    "\n",
    "# Plot the bar chart\n",
    "ax = top_20_courses.plot(kind=\"barh\", figsize=(13, 6))\n",
    "plt.ylabel(\"Course Organization and Title\")\n",
    "plt.xlabel(\"Number of Enrolled Students(mln)\")\n",
    "plt.title(\"Top 20 Most Popular Courses\")\n",
    "\n",
    "# Highlight specific labels\n",
    "highlight_keywords = [\"Machine Learning\", \"Data Science\", \"Deep Learning\"]\n",
    "for label in ax.get_yticklabels():\n",
    "    for keyword in highlight_keywords:\n",
    "        if keyword in label.get_text():\n",
    "            label.set_color(\"blue\")\n",
    "            label.set_fontweight(\"bold\")\n",
    "\n",
    "for i in range(len(ax.patches) - 4):\n",
    "    ax.patches[i].set_facecolor(\"grey\")\n",
    "\n",
    "plt.tight_layout()\n",
    "plt.show()"
   ]
  },
  {
   "cell_type": "markdown",
   "metadata": {},
   "source": [
    "All **Data Science** related courses are marked <span style=\"color: blue; font-weight: bold;\">blue</span>.\n",
    "\n",
    "- A lot of Data Science courses.\n",
    "- There are 4 leading courses, and 3 of them are related to Programming"
   ]
  },
  {
   "cell_type": "markdown",
   "metadata": {},
   "source": [
    "### Top 20 organizations"
   ]
  },
  {
   "cell_type": "code",
   "execution_count": null,
   "metadata": {},
   "outputs": [],
   "source": [
    "# Top 20 organizations by courses count\n",
    "top_org = (\n",
    "    courses[\"organization\"].value_counts().sort_values(ascending=False).head(20).index\n",
    ")\n",
    "top_org_courses = courses[courses.organization.isin(top_org)]\n",
    "\n",
    "# Data for plot 1\n",
    "courses_count_by_difficulty = top_org_courses.pivot_table(\n",
    "    index=\"organization\",\n",
    "    columns=\"difficulty\",\n",
    "    aggfunc=\"size\",\n",
    "    fill_value=0,\n",
    ").reindex(columns=[\"Mixed\", \"Beginner\", \"Intermediate\", \"Advanced\"])\n",
    "\n",
    "courses_count_by_difficulty[\"total\"] = courses_count_by_difficulty.sum(axis=1)\n",
    "courses_count_by_difficulty = courses_count_by_difficulty.sort_values(\n",
    "    by=[\"total\", \"Mixed\"], ascending=True\n",
    ")  # Ordering by total\n",
    "\n",
    "# Top 20 organizations by enrolled students count\n",
    "top_org_by_enrolled = (\n",
    "    courses.groupby(\"organization\")\n",
    "    .students_enrolled.sum()\n",
    "    .sort_values(ascending=False)[:20]\n",
    "    .index\n",
    ")\n",
    "top_enrolled_courses = courses[courses.organization.isin(top_org_by_enrolled)]\n",
    "\n",
    "# Data for plot 2\n",
    "courses_by_enrolled = top_enrolled_courses.pivot_table(\n",
    "    index=\"organization\",\n",
    "    columns=\"difficulty\",\n",
    "    values=\"students_enrolled\",\n",
    "    aggfunc=\"sum\",\n",
    "    fill_value=0,\n",
    ").reindex(  # Columns order\n",
    "    columns=[\n",
    "        \"Mixed\",\n",
    "        \"Beginner\",\n",
    "        \"Intermediate\",\n",
    "        \"Advanced\",\n",
    "    ]\n",
    ")\n",
    "\n",
    "courses_by_enrolled[\"total\"] = courses_by_enrolled.sum(axis=1)  # Finding total\n",
    "courses_by_enrolled = courses_by_enrolled.sort_values(  # Ordering by total\n",
    "    by=[\"total\", \"Mixed\"], ascending=True\n",
    ")"
   ]
  },
  {
   "cell_type": "markdown",
   "metadata": {},
   "source": [
    "Portion of Top 20 Organizations in Overall"
   ]
  },
  {
   "cell_type": "code",
   "execution_count": 135,
   "metadata": {},
   "outputs": [
    {
     "name": "stdout",
     "output_type": "stream",
     "text": [
      "From Enrolled Overall: 0.69%\n",
      "From Courses Count Overall: 0.47%\n"
     ]
    }
   ],
   "source": [
    "top_org_perc_enrolled = (\n",
    "    top_enrolled_courses.students_enrolled.sum()\n",
    "    / courses.groupby(\"organization\").students_enrolled.sum().sum()\n",
    ")\n",
    "top_org_perc_courses = top_enrolled_courses.size / courses.size\n",
    "\n",
    "print(\n",
    "    f\"\"\"From Enrolled Overall: {top_org_perc_enrolled:.2f}%\\nFrom Courses Count Overall: {top_org_perc_courses:.2f}%\"\"\"\n",
    ")"
   ]
  },
  {
   "cell_type": "code",
   "execution_count": 136,
   "metadata": {},
   "outputs": [
    {
     "data": {
      "application/vnd.plotly.v1+json": {
       "config": {
        "plotlyServerURL": "https://plot.ly"
       },
       "data": [
        {
         "legendgroup": "Mixed",
         "marker": {
          "color": "#1f77b4"
         },
         "name": "Mixed",
         "orientation": "h",
         "type": "bar",
         "x": [
          2,
          4,
          0,
          2,
          3,
          4,
          0,
          1,
          7,
          0,
          0,
          3,
          0,
          5,
          6,
          8,
          10,
          0,
          12,
          26
         ],
         "xaxis": "x",
         "y": [
          "University of Toronto",
          "University of Minnesota",
          "University of Colorado System",
          "Rice University",
          "Universidad Nacional Autónoma de México",
          "Berklee College of Music",
          "deeplearning.ai",
          "Stanford University",
          "Yale University",
          "University of Colorado Boulder",
          "University of Virginia",
          "University of California, Davis",
          "IBM",
          "University of Illinois at Urbana-Champaign",
          "University of California, Irvine",
          "Johns Hopkins University",
          "Duke University",
          "Google Cloud",
          "University of Michigan",
          "University of Pennsylvania"
         ],
         "yaxis": "y"
        },
        {
         "legendgroup": "Beginner",
         "marker": {
          "color": "#aec7e8"
         },
         "name": "Beginner",
         "orientation": "h",
         "type": "bar",
         "x": [
          6,
          4,
          10,
          8,
          9,
          8,
          3,
          8,
          9,
          11,
          18,
          14,
          16,
          7,
          15,
          17,
          16,
          8,
          19,
          28
         ],
         "xaxis": "x",
         "y": [
          "University of Toronto",
          "University of Minnesota",
          "University of Colorado System",
          "Rice University",
          "Universidad Nacional Autónoma de México",
          "Berklee College of Music",
          "deeplearning.ai",
          "Stanford University",
          "Yale University",
          "University of Colorado Boulder",
          "University of Virginia",
          "University of California, Davis",
          "IBM",
          "University of Illinois at Urbana-Champaign",
          "University of California, Irvine",
          "Johns Hopkins University",
          "Duke University",
          "Google Cloud",
          "University of Michigan",
          "University of Pennsylvania"
         ],
         "yaxis": "y"
        },
        {
         "legendgroup": "Intermediate",
         "marker": {
          "color": "#98df8a"
         },
         "name": "Intermediate",
         "orientation": "h",
         "type": "bar",
         "x": [
          1,
          3,
          2,
          3,
          2,
          2,
          13,
          4,
          1,
          6,
          1,
          4,
          4,
          10,
          5,
          3,
          1,
          24,
          10,
          5
         ],
         "xaxis": "x",
         "y": [
          "University of Toronto",
          "University of Minnesota",
          "University of Colorado System",
          "Rice University",
          "Universidad Nacional Autónoma de México",
          "Berklee College of Music",
          "deeplearning.ai",
          "Stanford University",
          "Yale University",
          "University of Colorado Boulder",
          "University of Virginia",
          "University of California, Davis",
          "IBM",
          "University of Illinois at Urbana-Champaign",
          "University of California, Irvine",
          "Johns Hopkins University",
          "Duke University",
          "Google Cloud",
          "University of Michigan",
          "University of Pennsylvania"
         ],
         "yaxis": "y"
        },
        {
         "legendgroup": "Advanced",
         "marker": {
          "color": "#d62728"
         },
         "name": "Advanced",
         "orientation": "h",
         "type": "bar",
         "x": [
          2,
          0,
          1,
          0,
          0,
          0,
          0,
          3,
          0,
          2,
          0,
          0,
          2,
          0,
          1,
          0,
          1,
          2,
          0,
          0
         ],
         "xaxis": "x",
         "y": [
          "University of Toronto",
          "University of Minnesota",
          "University of Colorado System",
          "Rice University",
          "Universidad Nacional Autónoma de México",
          "Berklee College of Music",
          "deeplearning.ai",
          "Stanford University",
          "Yale University",
          "University of Colorado Boulder",
          "University of Virginia",
          "University of California, Davis",
          "IBM",
          "University of Illinois at Urbana-Champaign",
          "University of California, Irvine",
          "Johns Hopkins University",
          "Duke University",
          "Google Cloud",
          "University of Michigan",
          "University of Pennsylvania"
         ],
         "yaxis": "y"
        },
        {
         "legendgroup": "Mixed",
         "marker": {
          "color": "#1f77b4"
         },
         "name": "Mixed",
         "orientation": "h",
         "type": "bar",
         "x": [
          240000,
          575000,
          0,
          222000,
          533000,
          151000,
          345000,
          0,
          217000,
          1116000,
          0,
          0,
          0,
          2983000,
          1067000,
          1189000,
          1065000,
          3200000,
          2964500,
          3698300
         ],
         "xaxis": "x2",
         "y": [
          "University of Washington",
          "The University of Edinburgh",
          "Google",
          "University of California San Diego",
          "Universidad Nacional Autónoma de México",
          "University of California, Davis",
          "Berklee College of Music",
          "University of Virginia",
          "University of Illinois at Urbana-Champaign",
          "Georgia Institute of Technology",
          "Google Cloud",
          "deeplearning.ai",
          "IBM",
          "Yale University",
          "Duke University",
          "Johns Hopkins University",
          "University of California, Irvine",
          "Stanford University",
          "University of Pennsylvania",
          "University of Michigan"
         ],
         "yaxis": "y2"
        },
        {
         "legendgroup": "Beginner",
         "marker": {
          "color": "#aec7e8"
         },
         "name": "Beginner",
         "orientation": "h",
         "type": "bar",
         "x": [
          110000,
          300000,
          1153000,
          324000,
          618900,
          978900,
          786000,
          1386000,
          982000,
          697000,
          145900,
          840000,
          2264900,
          933000,
          2722700,
          2339900,
          2855000,
          955000,
          2483000,
          2436900
         ],
         "xaxis": "x2",
         "y": [
          "University of Washington",
          "The University of Edinburgh",
          "Google",
          "University of California San Diego",
          "Universidad Nacional Autónoma de México",
          "University of California, Davis",
          "Berklee College of Music",
          "University of Virginia",
          "University of Illinois at Urbana-Champaign",
          "Georgia Institute of Technology",
          "Google Cloud",
          "deeplearning.ai",
          "IBM",
          "Yale University",
          "Duke University",
          "Johns Hopkins University",
          "University of California, Irvine",
          "Stanford University",
          "University of Pennsylvania",
          "University of Michigan"
         ],
         "yaxis": "y2"
        },
        {
         "legendgroup": "Intermediate",
         "marker": {
          "color": "#98df8a"
         },
         "name": "Intermediate",
         "orientation": "h",
         "type": "bar",
         "x": [
          487000,
          0,
          0,
          620000,
          56000,
          148800,
          157000,
          170000,
          480000,
          0,
          2407400,
          2023400,
          368000,
          36000,
          7900,
          770000,
          354000,
          578000,
          53800,
          1302500
         ],
         "xaxis": "x2",
         "y": [
          "University of Washington",
          "The University of Edinburgh",
          "Google",
          "University of California San Diego",
          "Universidad Nacional Autónoma de México",
          "University of California, Davis",
          "Berklee College of Music",
          "University of Virginia",
          "University of Illinois at Urbana-Champaign",
          "Georgia Institute of Technology",
          "Google Cloud",
          "deeplearning.ai",
          "IBM",
          "Yale University",
          "Duke University",
          "Johns Hopkins University",
          "University of California, Irvine",
          "Stanford University",
          "University of Pennsylvania",
          "University of Michigan"
         ],
         "yaxis": "y2"
        },
        {
         "legendgroup": "Advanced",
         "marker": {
          "color": "#d62728"
         },
         "name": "Advanced",
         "orientation": "h",
         "type": "bar",
         "x": [
          0,
          0,
          0,
          0,
          0,
          0,
          0,
          0,
          0,
          0,
          51000,
          0,
          323500,
          0,
          170000,
          0,
          52000,
          121000,
          0,
          0
         ],
         "xaxis": "x2",
         "y": [
          "University of Washington",
          "The University of Edinburgh",
          "Google",
          "University of California San Diego",
          "Universidad Nacional Autónoma de México",
          "University of California, Davis",
          "Berklee College of Music",
          "University of Virginia",
          "University of Illinois at Urbana-Champaign",
          "Georgia Institute of Technology",
          "Google Cloud",
          "deeplearning.ai",
          "IBM",
          "Yale University",
          "Duke University",
          "Johns Hopkins University",
          "University of California, Irvine",
          "Stanford University",
          "University of Pennsylvania",
          "University of Michigan"
         ],
         "yaxis": "y2"
        }
       ],
       "layout": {
        "annotations": [
         {
          "font": {
           "size": 16
          },
          "showarrow": false,
          "text": "Top 20 Organizations by Number of Courses",
          "x": 0.1875,
          "xanchor": "center",
          "xref": "paper",
          "y": 1,
          "yanchor": "bottom",
          "yref": "paper"
         },
         {
          "font": {
           "size": 16
          },
          "showarrow": false,
          "text": "Top 20 Organizations by Popularity",
          "x": 0.8125,
          "xanchor": "center",
          "xref": "paper",
          "y": 1,
          "yanchor": "bottom",
          "yref": "paper"
         }
        ],
        "barmode": "stack",
        "height": 550,
        "legend": {
         "orientation": "h",
         "title": {
          "text": "Difficulty"
         },
         "y": -0.2,
         "yanchor": "middle"
        },
        "template": {
         "data": {
          "bar": [
           {
            "error_x": {
             "color": "#2a3f5f"
            },
            "error_y": {
             "color": "#2a3f5f"
            },
            "marker": {
             "line": {
              "color": "#E5ECF6",
              "width": 0.5
             },
             "pattern": {
              "fillmode": "overlay",
              "size": 10,
              "solidity": 0.2
             }
            },
            "type": "bar"
           }
          ],
          "barpolar": [
           {
            "marker": {
             "line": {
              "color": "#E5ECF6",
              "width": 0.5
             },
             "pattern": {
              "fillmode": "overlay",
              "size": 10,
              "solidity": 0.2
             }
            },
            "type": "barpolar"
           }
          ],
          "carpet": [
           {
            "aaxis": {
             "endlinecolor": "#2a3f5f",
             "gridcolor": "white",
             "linecolor": "white",
             "minorgridcolor": "white",
             "startlinecolor": "#2a3f5f"
            },
            "baxis": {
             "endlinecolor": "#2a3f5f",
             "gridcolor": "white",
             "linecolor": "white",
             "minorgridcolor": "white",
             "startlinecolor": "#2a3f5f"
            },
            "type": "carpet"
           }
          ],
          "choropleth": [
           {
            "colorbar": {
             "outlinewidth": 0,
             "ticks": ""
            },
            "type": "choropleth"
           }
          ],
          "contour": [
           {
            "colorbar": {
             "outlinewidth": 0,
             "ticks": ""
            },
            "colorscale": [
             [
              0,
              "#0d0887"
             ],
             [
              0.1111111111111111,
              "#46039f"
             ],
             [
              0.2222222222222222,
              "#7201a8"
             ],
             [
              0.3333333333333333,
              "#9c179e"
             ],
             [
              0.4444444444444444,
              "#bd3786"
             ],
             [
              0.5555555555555556,
              "#d8576b"
             ],
             [
              0.6666666666666666,
              "#ed7953"
             ],
             [
              0.7777777777777778,
              "#fb9f3a"
             ],
             [
              0.8888888888888888,
              "#fdca26"
             ],
             [
              1,
              "#f0f921"
             ]
            ],
            "type": "contour"
           }
          ],
          "contourcarpet": [
           {
            "colorbar": {
             "outlinewidth": 0,
             "ticks": ""
            },
            "type": "contourcarpet"
           }
          ],
          "heatmap": [
           {
            "colorbar": {
             "outlinewidth": 0,
             "ticks": ""
            },
            "colorscale": [
             [
              0,
              "#0d0887"
             ],
             [
              0.1111111111111111,
              "#46039f"
             ],
             [
              0.2222222222222222,
              "#7201a8"
             ],
             [
              0.3333333333333333,
              "#9c179e"
             ],
             [
              0.4444444444444444,
              "#bd3786"
             ],
             [
              0.5555555555555556,
              "#d8576b"
             ],
             [
              0.6666666666666666,
              "#ed7953"
             ],
             [
              0.7777777777777778,
              "#fb9f3a"
             ],
             [
              0.8888888888888888,
              "#fdca26"
             ],
             [
              1,
              "#f0f921"
             ]
            ],
            "type": "heatmap"
           }
          ],
          "heatmapgl": [
           {
            "colorbar": {
             "outlinewidth": 0,
             "ticks": ""
            },
            "colorscale": [
             [
              0,
              "#0d0887"
             ],
             [
              0.1111111111111111,
              "#46039f"
             ],
             [
              0.2222222222222222,
              "#7201a8"
             ],
             [
              0.3333333333333333,
              "#9c179e"
             ],
             [
              0.4444444444444444,
              "#bd3786"
             ],
             [
              0.5555555555555556,
              "#d8576b"
             ],
             [
              0.6666666666666666,
              "#ed7953"
             ],
             [
              0.7777777777777778,
              "#fb9f3a"
             ],
             [
              0.8888888888888888,
              "#fdca26"
             ],
             [
              1,
              "#f0f921"
             ]
            ],
            "type": "heatmapgl"
           }
          ],
          "histogram": [
           {
            "marker": {
             "pattern": {
              "fillmode": "overlay",
              "size": 10,
              "solidity": 0.2
             }
            },
            "type": "histogram"
           }
          ],
          "histogram2d": [
           {
            "colorbar": {
             "outlinewidth": 0,
             "ticks": ""
            },
            "colorscale": [
             [
              0,
              "#0d0887"
             ],
             [
              0.1111111111111111,
              "#46039f"
             ],
             [
              0.2222222222222222,
              "#7201a8"
             ],
             [
              0.3333333333333333,
              "#9c179e"
             ],
             [
              0.4444444444444444,
              "#bd3786"
             ],
             [
              0.5555555555555556,
              "#d8576b"
             ],
             [
              0.6666666666666666,
              "#ed7953"
             ],
             [
              0.7777777777777778,
              "#fb9f3a"
             ],
             [
              0.8888888888888888,
              "#fdca26"
             ],
             [
              1,
              "#f0f921"
             ]
            ],
            "type": "histogram2d"
           }
          ],
          "histogram2dcontour": [
           {
            "colorbar": {
             "outlinewidth": 0,
             "ticks": ""
            },
            "colorscale": [
             [
              0,
              "#0d0887"
             ],
             [
              0.1111111111111111,
              "#46039f"
             ],
             [
              0.2222222222222222,
              "#7201a8"
             ],
             [
              0.3333333333333333,
              "#9c179e"
             ],
             [
              0.4444444444444444,
              "#bd3786"
             ],
             [
              0.5555555555555556,
              "#d8576b"
             ],
             [
              0.6666666666666666,
              "#ed7953"
             ],
             [
              0.7777777777777778,
              "#fb9f3a"
             ],
             [
              0.8888888888888888,
              "#fdca26"
             ],
             [
              1,
              "#f0f921"
             ]
            ],
            "type": "histogram2dcontour"
           }
          ],
          "mesh3d": [
           {
            "colorbar": {
             "outlinewidth": 0,
             "ticks": ""
            },
            "type": "mesh3d"
           }
          ],
          "parcoords": [
           {
            "line": {
             "colorbar": {
              "outlinewidth": 0,
              "ticks": ""
             }
            },
            "type": "parcoords"
           }
          ],
          "pie": [
           {
            "automargin": true,
            "type": "pie"
           }
          ],
          "scatter": [
           {
            "fillpattern": {
             "fillmode": "overlay",
             "size": 10,
             "solidity": 0.2
            },
            "type": "scatter"
           }
          ],
          "scatter3d": [
           {
            "line": {
             "colorbar": {
              "outlinewidth": 0,
              "ticks": ""
             }
            },
            "marker": {
             "colorbar": {
              "outlinewidth": 0,
              "ticks": ""
             }
            },
            "type": "scatter3d"
           }
          ],
          "scattercarpet": [
           {
            "marker": {
             "colorbar": {
              "outlinewidth": 0,
              "ticks": ""
             }
            },
            "type": "scattercarpet"
           }
          ],
          "scattergeo": [
           {
            "marker": {
             "colorbar": {
              "outlinewidth": 0,
              "ticks": ""
             }
            },
            "type": "scattergeo"
           }
          ],
          "scattergl": [
           {
            "marker": {
             "colorbar": {
              "outlinewidth": 0,
              "ticks": ""
             }
            },
            "type": "scattergl"
           }
          ],
          "scattermapbox": [
           {
            "marker": {
             "colorbar": {
              "outlinewidth": 0,
              "ticks": ""
             }
            },
            "type": "scattermapbox"
           }
          ],
          "scatterpolar": [
           {
            "marker": {
             "colorbar": {
              "outlinewidth": 0,
              "ticks": ""
             }
            },
            "type": "scatterpolar"
           }
          ],
          "scatterpolargl": [
           {
            "marker": {
             "colorbar": {
              "outlinewidth": 0,
              "ticks": ""
             }
            },
            "type": "scatterpolargl"
           }
          ],
          "scatterternary": [
           {
            "marker": {
             "colorbar": {
              "outlinewidth": 0,
              "ticks": ""
             }
            },
            "type": "scatterternary"
           }
          ],
          "surface": [
           {
            "colorbar": {
             "outlinewidth": 0,
             "ticks": ""
            },
            "colorscale": [
             [
              0,
              "#0d0887"
             ],
             [
              0.1111111111111111,
              "#46039f"
             ],
             [
              0.2222222222222222,
              "#7201a8"
             ],
             [
              0.3333333333333333,
              "#9c179e"
             ],
             [
              0.4444444444444444,
              "#bd3786"
             ],
             [
              0.5555555555555556,
              "#d8576b"
             ],
             [
              0.6666666666666666,
              "#ed7953"
             ],
             [
              0.7777777777777778,
              "#fb9f3a"
             ],
             [
              0.8888888888888888,
              "#fdca26"
             ],
             [
              1,
              "#f0f921"
             ]
            ],
            "type": "surface"
           }
          ],
          "table": [
           {
            "cells": {
             "fill": {
              "color": "#EBF0F8"
             },
             "line": {
              "color": "white"
             }
            },
            "header": {
             "fill": {
              "color": "#C8D4E3"
             },
             "line": {
              "color": "white"
             }
            },
            "type": "table"
           }
          ]
         },
         "layout": {
          "annotationdefaults": {
           "arrowcolor": "#2a3f5f",
           "arrowhead": 0,
           "arrowwidth": 1
          },
          "autotypenumbers": "strict",
          "coloraxis": {
           "colorbar": {
            "outlinewidth": 0,
            "ticks": ""
           }
          },
          "colorscale": {
           "diverging": [
            [
             0,
             "#8e0152"
            ],
            [
             0.1,
             "#c51b7d"
            ],
            [
             0.2,
             "#de77ae"
            ],
            [
             0.3,
             "#f1b6da"
            ],
            [
             0.4,
             "#fde0ef"
            ],
            [
             0.5,
             "#f7f7f7"
            ],
            [
             0.6,
             "#e6f5d0"
            ],
            [
             0.7,
             "#b8e186"
            ],
            [
             0.8,
             "#7fbc41"
            ],
            [
             0.9,
             "#4d9221"
            ],
            [
             1,
             "#276419"
            ]
           ],
           "sequential": [
            [
             0,
             "#0d0887"
            ],
            [
             0.1111111111111111,
             "#46039f"
            ],
            [
             0.2222222222222222,
             "#7201a8"
            ],
            [
             0.3333333333333333,
             "#9c179e"
            ],
            [
             0.4444444444444444,
             "#bd3786"
            ],
            [
             0.5555555555555556,
             "#d8576b"
            ],
            [
             0.6666666666666666,
             "#ed7953"
            ],
            [
             0.7777777777777778,
             "#fb9f3a"
            ],
            [
             0.8888888888888888,
             "#fdca26"
            ],
            [
             1,
             "#f0f921"
            ]
           ],
           "sequentialminus": [
            [
             0,
             "#0d0887"
            ],
            [
             0.1111111111111111,
             "#46039f"
            ],
            [
             0.2222222222222222,
             "#7201a8"
            ],
            [
             0.3333333333333333,
             "#9c179e"
            ],
            [
             0.4444444444444444,
             "#bd3786"
            ],
            [
             0.5555555555555556,
             "#d8576b"
            ],
            [
             0.6666666666666666,
             "#ed7953"
            ],
            [
             0.7777777777777778,
             "#fb9f3a"
            ],
            [
             0.8888888888888888,
             "#fdca26"
            ],
            [
             1,
             "#f0f921"
            ]
           ]
          },
          "colorway": [
           "#636efa",
           "#EF553B",
           "#00cc96",
           "#ab63fa",
           "#FFA15A",
           "#19d3f3",
           "#FF6692",
           "#B6E880",
           "#FF97FF",
           "#FECB52"
          ],
          "font": {
           "color": "#2a3f5f"
          },
          "geo": {
           "bgcolor": "white",
           "lakecolor": "white",
           "landcolor": "#E5ECF6",
           "showlakes": true,
           "showland": true,
           "subunitcolor": "white"
          },
          "hoverlabel": {
           "align": "left"
          },
          "hovermode": "closest",
          "mapbox": {
           "style": "light"
          },
          "paper_bgcolor": "white",
          "plot_bgcolor": "#E5ECF6",
          "polar": {
           "angularaxis": {
            "gridcolor": "white",
            "linecolor": "white",
            "ticks": ""
           },
           "bgcolor": "#E5ECF6",
           "radialaxis": {
            "gridcolor": "white",
            "linecolor": "white",
            "ticks": ""
           }
          },
          "scene": {
           "xaxis": {
            "backgroundcolor": "#E5ECF6",
            "gridcolor": "white",
            "gridwidth": 2,
            "linecolor": "white",
            "showbackground": true,
            "ticks": "",
            "zerolinecolor": "white"
           },
           "yaxis": {
            "backgroundcolor": "#E5ECF6",
            "gridcolor": "white",
            "gridwidth": 2,
            "linecolor": "white",
            "showbackground": true,
            "ticks": "",
            "zerolinecolor": "white"
           },
           "zaxis": {
            "backgroundcolor": "#E5ECF6",
            "gridcolor": "white",
            "gridwidth": 2,
            "linecolor": "white",
            "showbackground": true,
            "ticks": "",
            "zerolinecolor": "white"
           }
          },
          "shapedefaults": {
           "line": {
            "color": "#2a3f5f"
           }
          },
          "ternary": {
           "aaxis": {
            "gridcolor": "white",
            "linecolor": "white",
            "ticks": ""
           },
           "baxis": {
            "gridcolor": "white",
            "linecolor": "white",
            "ticks": ""
           },
           "bgcolor": "#E5ECF6",
           "caxis": {
            "gridcolor": "white",
            "linecolor": "white",
            "ticks": ""
           }
          },
          "title": {
           "x": 0.05
          },
          "xaxis": {
           "automargin": true,
           "gridcolor": "white",
           "linecolor": "white",
           "ticks": "",
           "title": {
            "standoff": 15
           },
           "zerolinecolor": "white",
           "zerolinewidth": 2
          },
          "yaxis": {
           "automargin": true,
           "gridcolor": "white",
           "linecolor": "white",
           "ticks": "",
           "title": {
            "standoff": 15
           },
           "zerolinecolor": "white",
           "zerolinewidth": 2
          }
         }
        },
        "title": {
         "text": "Top 20 Organizations: Courses and Popularity (Portion from Overall: 0.69)"
        },
        "width": 1400,
        "xaxis": {
         "anchor": "y",
         "domain": [
          0,
          0.375
         ],
         "title": {
          "text": "Number of Courses"
         }
        },
        "xaxis2": {
         "anchor": "y2",
         "domain": [
          0.625,
          1
         ],
         "title": {
          "text": "Number of Students Enrolled(mln)"
         }
        },
        "yaxis": {
         "anchor": "x",
         "domain": [
          0,
          1
         ]
        },
        "yaxis2": {
         "anchor": "x2",
         "domain": [
          0,
          1
         ]
        }
       }
      }
     },
     "metadata": {},
     "output_type": "display_data"
    }
   ],
   "source": [
    "colors = {\n",
    "    \"Mixed\": \"#1f77b4\",  # Dark Blue\n",
    "    \"Beginner\": \"#aec7e8\",  # Light Blue\n",
    "    \"Intermediate\": \"#98df8a\",  # Light Green\n",
    "    \"Advanced\": \"#d62728\",  # Dark Red\n",
    "}\n",
    "\n",
    "\n",
    "fig = make_subplots(\n",
    "    rows=1,\n",
    "    cols=2,\n",
    "    subplot_titles=(\n",
    "        \"Top 20 Organizations by Number of Courses\",\n",
    "        \"Top 20 Organizations by Popularity\",\n",
    "    ),\n",
    "    horizontal_spacing=0.25,  # Avoiding overlap\n",
    ")\n",
    "\n",
    "# Adding plot 1\n",
    "for difficulty in colors.keys():\n",
    "    fig.add_trace(\n",
    "        go.Bar(\n",
    "            y=courses_count_by_difficulty.index,\n",
    "            x=courses_count_by_difficulty[difficulty],\n",
    "            name=difficulty,\n",
    "            orientation=\"h\",\n",
    "            marker_color=colors[difficulty],\n",
    "            legendgroup=difficulty,  # Grouping both labels\n",
    "        ),\n",
    "        col=1,\n",
    "        row=1,\n",
    "    )\n",
    "\n",
    "# Adding plot 2\n",
    "for difficulty in colors.keys():\n",
    "    fig.add_trace(\n",
    "        go.Bar(\n",
    "            y=courses_by_enrolled.index,\n",
    "            x=courses_by_enrolled[difficulty],\n",
    "            name=difficulty,\n",
    "            orientation=\"h\",\n",
    "            marker_color=colors[difficulty],\n",
    "            legendgroup=difficulty,\n",
    "        ),\n",
    "        col=2,\n",
    "        row=1,\n",
    "    )\n",
    "\n",
    "# Update layout for both subplots\n",
    "fig.update_layout(\n",
    "    title_text=f\"Top 20 Organizations: Courses and Popularity (Portion from Overall: {top_org_perc_enrolled:.2f})\",\n",
    "    barmode=\"stack\",\n",
    "    height=550,\n",
    "    width=1400,\n",
    "    xaxis=dict(title=\"Number of Courses\"),\n",
    "    xaxis2=dict(title=\"Number of Students Enrolled (mln)\"),\n",
    "    xaxis_title=\"Number of Courses\",\n",
    "    xaxis2_title=\"Number of Students Enrolled(mln)\",\n",
    "    legend=dict(title=\"Difficulty\", orientation=\"h\", yanchor=\"middle\", y=-0.2),\n",
    ")\n",
    "\n",
    "\n",
    "fig.show()"
   ]
  },
  {
   "cell_type": "markdown",
   "metadata": {},
   "source": [
    "- _University of Pennsylvania_ has the most courses, but _University of Michigan_ is the most popular organization.\n",
    "- The most popular difficulty level is **mixed**. Although the most number of courses are in **beginner** level.\n",
    "- Very few enrolled for _advanced_."
   ]
  },
  {
   "cell_type": "markdown",
   "metadata": {},
   "source": [
    "Is there a correlation between course rating and enrolled number?"
   ]
  },
  {
   "cell_type": "code",
   "execution_count": null,
   "metadata": {},
   "outputs": [
    {
     "data": {
      "text/html": [
       "<div>\n",
       "<style scoped>\n",
       "    .dataframe tbody tr th:only-of-type {\n",
       "        vertical-align: middle;\n",
       "    }\n",
       "\n",
       "    .dataframe tbody tr th {\n",
       "        vertical-align: top;\n",
       "    }\n",
       "\n",
       "    .dataframe thead th {\n",
       "        text-align: right;\n",
       "    }\n",
       "</style>\n",
       "<table border=\"1\" class=\"dataframe\">\n",
       "  <thead>\n",
       "    <tr style=\"text-align: right;\">\n",
       "      <th></th>\n",
       "      <th>rating</th>\n",
       "      <th>students_enrolled</th>\n",
       "    </tr>\n",
       "  </thead>\n",
       "  <tbody>\n",
       "    <tr>\n",
       "      <th>rating</th>\n",
       "      <td>1.000000</td>\n",
       "      <td>0.026831</td>\n",
       "    </tr>\n",
       "    <tr>\n",
       "      <th>students_enrolled</th>\n",
       "      <td>0.026831</td>\n",
       "      <td>1.000000</td>\n",
       "    </tr>\n",
       "  </tbody>\n",
       "</table>\n",
       "</div>"
      ],
      "text/plain": [
       "                     rating  students_enrolled\n",
       "rating             1.000000           0.026831\n",
       "students_enrolled  0.026831           1.000000"
      ]
     },
     "execution_count": 137,
     "metadata": {},
     "output_type": "execute_result"
    }
   ],
   "source": [
    "courses.corr(method=\"spearman\")"
   ]
  },
  {
   "cell_type": "markdown",
   "metadata": {},
   "source": [
    " - Surprisingly no correlation between course rating and enrolled number"
   ]
  },
  {
   "cell_type": "code",
   "execution_count": 138,
   "metadata": {},
   "outputs": [
    {
     "data": {
      "image/png": "[encoded data removed]",
      "text/plain": [
       "<Figure size 1500x600 with 2 Axes>"
      ]
     },
     "metadata": {},
     "output_type": "display_data"
    }
   ],
   "source": [
    "# Same plot with matplotlib\n",
    "fig, axes = plt.subplots(1, 2, figsize=(15, 6))\n",
    "\n",
    "courses_count_by_difficulty.loc[:, courses_count_by_difficulty.columns != \"total\"].plot(\n",
    "    kind=\"barh\", stacked=True, ax=axes[0]\n",
    ")\n",
    "axes[0].set_title(\"Top 20 Organizations by Number of Courses\")\n",
    "axes[0].set_ylabel(\"Organization\")\n",
    "axes[0].set_xlabel(\"Number of Courses\")\n",
    "axes[0].legend(title=\"Difficulty\", loc=\"lower right\")\n",
    "\n",
    "# Plot 2: Top organizations by enrolled count\n",
    "\n",
    "\n",
    "courses_by_enrolled.loc[:, courses_by_enrolled.columns != \"total\"].plot(\n",
    "    kind=\"barh\",\n",
    "    stacked=True,\n",
    "    ax=axes[1],\n",
    ")\n",
    "axes[1].set_title(\"Top 20 Organizations by Popularity\")\n",
    "axes[1].set_xlabel(\"Number of Students Enrolled(mln)\")\n",
    "axes[1].set_ylabel(\"\")\n",
    "\n",
    "fig.tight_layout()"
   ]
  },
  {
   "cell_type": "code",
   "execution_count": null,
   "metadata": {},
   "outputs": [
    {
     "data": {
      "image/png": "[encoded data removed]",
      "text/plain": [
       "<Figure size 640x480 with 1 Axes>"
      ]
     },
     "metadata": {},
     "output_type": "display_data"
    },
    {
     "data": {
      "text/plain": [
       "difficulty\n",
       "Advanced        4.61\n",
       "Beginner        4.69\n",
       "Intermediate    4.65\n",
       "Mixed           4.71\n",
       "Name: rating, dtype: float64"
      ]
     },
     "execution_count": 146,
     "metadata": {},
     "output_type": "execute_result"
    }
   ],
   "source": [
    "# add suplot\n",
    "sns.boxplot(x=\"difficulty\", y=\"rating\", data=top_enrolled_courses)\n",
    "plt.title(\"Course Difficulty vs. Rating: Most Popular Organizations\")\n",
    "plt.xlabel(\"Difficulty\")\n",
    "plt.ylabel(\"Rating\")\n",
    "plt.show()\n",
    "top_enrolled_courses.groupby(\"difficulty\").rating.mean().round(2)"
   ]
  },
  {
   "cell_type": "markdown",
   "metadata": {},
   "source": [
    "- Not much difference"
   ]
  },
  {
   "cell_type": "code",
   "execution_count": null,
   "metadata": {},
   "outputs": [
    {
     "data": {
      "image/png": "[encoded data removed]",
      "text/plain": [
       "<Figure size 640x480 with 1 Axes>"
      ]
     },
     "metadata": {},
     "output_type": "display_data"
    },
    {
     "data": {
      "text/plain": [
       "certificate_type\n",
       "Course                      35163300\n",
       "Professional certificate     1757000\n",
       "Specialization              18694900\n",
       "Name: students_enrolled, dtype: int64"
      ]
     },
     "execution_count": 148,
     "metadata": {},
     "output_type": "execute_result"
    }
   ],
   "source": [
    "sns.boxplot(x=\"certificate_type\", y=\"students_enrolled\", data=top_enrolled_courses)\n",
    "plt.title(\"Certificate vs. Enrolled Count: Most Popular Organizations\", pad=20)\n",
    "plt.xlabel(\"Certificate Type\")\n",
    "plt.ylabel(\"Enrolled Count\")\n",
    "plt.show()\n",
    "top_enrolled_courses.groupby(\"certificate_type\").students_enrolled.sum()"
   ]
  },
  {
   "cell_type": "markdown",
   "metadata": {},
   "source": [
    "- The average number of enrolled is higher for _Professional Certificate_, but in overall count the _ is leading."
   ]
  },
  {
   "cell_type": "markdown",
   "metadata": {},
   "source": [
    "Which organizations offer the most courses for beginners?"
   ]
  },
  {
   "cell_type": "code",
   "execution_count": null,
   "metadata": {},
   "outputs": [
    {
     "data": {
      "text/html": [
       "<div>\n",
       "<style scoped>\n",
       "    .dataframe tbody tr th:only-of-type {\n",
       "        vertical-align: middle;\n",
       "    }\n",
       "\n",
       "    .dataframe tbody tr th {\n",
       "        vertical-align: top;\n",
       "    }\n",
       "\n",
       "    .dataframe thead th {\n",
       "        text-align: right;\n",
       "    }\n",
       "</style>\n",
       "<table border=\"1\" class=\"dataframe\">\n",
       "  <thead>\n",
       "    <tr style=\"text-align: right;\">\n",
       "      <th></th>\n",
       "      <th>Organizations with the most courses for beginners</th>\n",
       "    </tr>\n",
       "  </thead>\n",
       "  <tbody>\n",
       "    <tr>\n",
       "      <th>organization</th>\n",
       "      <td>University of Pennsylvania</td>\n",
       "    </tr>\n",
       "    <tr>\n",
       "      <th>difficulty</th>\n",
       "      <td>Beginner</td>\n",
       "    </tr>\n",
       "    <tr>\n",
       "      <th>count</th>\n",
       "      <td>28</td>\n",
       "    </tr>\n",
       "  </tbody>\n",
       "</table>\n",
       "</div>"
      ],
      "text/plain": [
       "             Organizations with the most courses for beginners\n",
       "organization                        University of Pennsylvania\n",
       "difficulty                                            Beginner\n",
       "count                                                       28"
      ]
     },
     "execution_count": 166,
     "metadata": {},
     "output_type": "execute_result"
    }
   ],
   "source": [
    "beginner_courses = (\n",
    "    courses.groupby([\"organization\", \"difficulty\"]).size().reset_index(name=\"count\")\n",
    ")\n",
    "beginner_courses = beginner_courses[beginner_courses[\"difficulty\"] == \"Beginner\"]\n",
    "most_beginner_courses_org = beginner_courses.loc[beginner_courses[\"count\"].idxmax()]\n",
    "most_beginner_courses_org.name = \"Organizations with the most courses for beginners\"\n",
    "pd.DataFrame(most_beginner_courses_org)"
   ]
  },
  {
   "cell_type": "markdown",
   "metadata": {},
   "source": [
    "Are certain organizations focusing more on advanced-level courses?"
   ]
  },
  {
   "cell_type": "code",
   "execution_count": null,
   "metadata": {},
   "outputs": [
    {
     "data": {
      "text/html": [
       "<div>\n",
       "<style scoped>\n",
       "    .dataframe tbody tr th:only-of-type {\n",
       "        vertical-align: middle;\n",
       "    }\n",
       "\n",
       "    .dataframe tbody tr th {\n",
       "        vertical-align: top;\n",
       "    }\n",
       "\n",
       "    .dataframe thead th {\n",
       "        text-align: right;\n",
       "    }\n",
       "</style>\n",
       "<table border=\"1\" class=\"dataframe\">\n",
       "  <thead>\n",
       "    <tr style=\"text-align: right;\">\n",
       "      <th>difficulty</th>\n",
       "      <th>Advanced</th>\n",
       "      <th>Beginner</th>\n",
       "      <th>Intermediate</th>\n",
       "      <th>Mixed</th>\n",
       "      <th>advanced_vs_other</th>\n",
       "    </tr>\n",
       "    <tr>\n",
       "      <th>organization</th>\n",
       "      <th></th>\n",
       "      <th></th>\n",
       "      <th></th>\n",
       "      <th></th>\n",
       "      <th></th>\n",
       "    </tr>\n",
       "  </thead>\n",
       "  <tbody>\n",
       "    <tr>\n",
       "      <th>Autodesk</th>\n",
       "      <td>2</td>\n",
       "      <td>0</td>\n",
       "      <td>2</td>\n",
       "      <td>0</td>\n",
       "      <td>0.50</td>\n",
       "    </tr>\n",
       "    <tr>\n",
       "      <th>Erasmus University Rotterdam</th>\n",
       "      <td>1</td>\n",
       "      <td>3</td>\n",
       "      <td>0</td>\n",
       "      <td>1</td>\n",
       "      <td>0.20</td>\n",
       "    </tr>\n",
       "    <tr>\n",
       "      <th>Stanford University</th>\n",
       "      <td>3</td>\n",
       "      <td>8</td>\n",
       "      <td>4</td>\n",
       "      <td>1</td>\n",
       "      <td>0.19</td>\n",
       "    </tr>\n",
       "    <tr>\n",
       "      <th>University of Toronto</th>\n",
       "      <td>2</td>\n",
       "      <td>6</td>\n",
       "      <td>1</td>\n",
       "      <td>2</td>\n",
       "      <td>0.18</td>\n",
       "    </tr>\n",
       "    <tr>\n",
       "      <th>National Research University Higher School of Economics</th>\n",
       "      <td>1</td>\n",
       "      <td>5</td>\n",
       "      <td>1</td>\n",
       "      <td>0</td>\n",
       "      <td>0.14</td>\n",
       "    </tr>\n",
       "  </tbody>\n",
       "</table>\n",
       "</div>"
      ],
      "text/plain": [
       "difficulty                                          Advanced  Beginner  \\\n",
       "organization                                                             \n",
       "Autodesk                                                   2         0   \n",
       "Erasmus University Rotterdam                               1         3   \n",
       "Stanford University                                        3         8   \n",
       "University of Toronto                                      2         6   \n",
       "National Research University Higher School of E...         1         5   \n",
       "\n",
       "difficulty                                          Intermediate  Mixed  \\\n",
       "organization                                                              \n",
       "Autodesk                                                       2      0   \n",
       "Erasmus University Rotterdam                                   0      1   \n",
       "Stanford University                                            4      1   \n",
       "University of Toronto                                          1      2   \n",
       "National Research University Higher School of E...             1      0   \n",
       "\n",
       "difficulty                                          advanced_vs_other  \n",
       "organization                                                           \n",
       "Autodesk                                                         0.50  \n",
       "Erasmus University Rotterdam                                     0.20  \n",
       "Stanford University                                              0.19  \n",
       "University of Toronto                                            0.18  \n",
       "National Research University Higher School of E...               0.14  "
      ]
     },
     "execution_count": 142,
     "metadata": {},
     "output_type": "execute_result"
    }
   ],
   "source": [
    "counts = (\n",
    "    courses.groupby([\"organization\", \"difficulty\"]).size().reset_index(name=\"count\")\n",
    ")\n",
    "pivot = counts.pivot_table(\n",
    "    index=\"organization\",\n",
    "    columns=\"difficulty\",\n",
    "    values=\"count\",\n",
    "    aggfunc=\"sum\",\n",
    "    fill_value=0,\n",
    ")\n",
    "pivot[\"advanced_vs_other\"] = (pivot[\"Advanced\"] / pivot.sum(axis=1)).round(2)\n",
    "pivot_sorted = pivot.sort_values(by=\"advanced_vs_other\", ascending=False)\n",
    "pivot_sorted[:5]"
   ]
  },
  {
   "cell_type": "markdown",
   "metadata": {},
   "source": [
    "Which organization has the highest ratio of course/enrolled?"
   ]
  },
  {
   "cell_type": "code",
   "execution_count": null,
   "metadata": {},
   "outputs": [
    {
     "data": {
      "text/html": [
       "<div>\n",
       "<style scoped>\n",
       "    .dataframe tbody tr th:only-of-type {\n",
       "        vertical-align: middle;\n",
       "    }\n",
       "\n",
       "    .dataframe tbody tr th {\n",
       "        vertical-align: top;\n",
       "    }\n",
       "\n",
       "    .dataframe thead th {\n",
       "        text-align: right;\n",
       "    }\n",
       "</style>\n",
       "<table border=\"1\" class=\"dataframe\">\n",
       "  <thead>\n",
       "    <tr style=\"text-align: right;\">\n",
       "      <th></th>\n",
       "      <th>organization</th>\n",
       "      <th>enrolled_per_course</th>\n",
       "      <th>total_courses</th>\n",
       "    </tr>\n",
       "  </thead>\n",
       "  <tbody>\n",
       "    <tr>\n",
       "      <th>85</th>\n",
       "      <td>Stanford University</td>\n",
       "      <td>303375.000000</td>\n",
       "      <td>16</td>\n",
       "    </tr>\n",
       "    <tr>\n",
       "      <th>148</th>\n",
       "      <td>Yale University</td>\n",
       "      <td>232470.588235</td>\n",
       "      <td>17</td>\n",
       "    </tr>\n",
       "    <tr>\n",
       "      <th>58</th>\n",
       "      <td>McMaster University</td>\n",
       "      <td>230000.000000</td>\n",
       "      <td>1</td>\n",
       "    </tr>\n",
       "    <tr>\n",
       "      <th>33</th>\n",
       "      <td>Google - Spectrum Sharing</td>\n",
       "      <td>210000.000000</td>\n",
       "      <td>1</td>\n",
       "    </tr>\n",
       "    <tr>\n",
       "      <th>52</th>\n",
       "      <td>Ludwig-Maximilians-Universität München (LMU)</td>\n",
       "      <td>192500.000000</td>\n",
       "      <td>2</td>\n",
       "    </tr>\n",
       "    <tr>\n",
       "      <th>151</th>\n",
       "      <td>École Polytechnique</td>\n",
       "      <td>190000.000000</td>\n",
       "      <td>1</td>\n",
       "    </tr>\n",
       "    <tr>\n",
       "      <th>135</th>\n",
       "      <td>University of Michigan</td>\n",
       "      <td>181407.317073</td>\n",
       "      <td>41</td>\n",
       "    </tr>\n",
       "    <tr>\n",
       "      <th>30</th>\n",
       "      <td>Georgia Institute of Technology</td>\n",
       "      <td>181300.000000</td>\n",
       "      <td>10</td>\n",
       "    </tr>\n",
       "    <tr>\n",
       "      <th>150</th>\n",
       "      <td>deeplearning.ai</td>\n",
       "      <td>178962.500000</td>\n",
       "      <td>16</td>\n",
       "    </tr>\n",
       "    <tr>\n",
       "      <th>142</th>\n",
       "      <td>University of Washington</td>\n",
       "      <td>167400.000000</td>\n",
       "      <td>5</td>\n",
       "    </tr>\n",
       "    <tr>\n",
       "      <th>123</th>\n",
       "      <td>University of California, Irvine</td>\n",
       "      <td>160222.222222</td>\n",
       "      <td>27</td>\n",
       "    </tr>\n",
       "    <tr>\n",
       "      <th>48</th>\n",
       "      <td>Johns Hopkins University</td>\n",
       "      <td>153532.142857</td>\n",
       "      <td>28</td>\n",
       "    </tr>\n",
       "    <tr>\n",
       "      <th>145</th>\n",
       "      <td>Vanderbilt University</td>\n",
       "      <td>144000.000000</td>\n",
       "      <td>3</td>\n",
       "    </tr>\n",
       "    <tr>\n",
       "      <th>20</th>\n",
       "      <td>Duke University</td>\n",
       "      <td>141700.000000</td>\n",
       "      <td>28</td>\n",
       "    </tr>\n",
       "    <tr>\n",
       "      <th>149</th>\n",
       "      <td>Yonsei University</td>\n",
       "      <td>140750.000000</td>\n",
       "      <td>4</td>\n",
       "    </tr>\n",
       "    <tr>\n",
       "      <th>38</th>\n",
       "      <td>IBM</td>\n",
       "      <td>134381.818182</td>\n",
       "      <td>22</td>\n",
       "    </tr>\n",
       "    <tr>\n",
       "      <th>74</th>\n",
       "      <td>PwC</td>\n",
       "      <td>133333.333333</td>\n",
       "      <td>3</td>\n",
       "    </tr>\n",
       "    <tr>\n",
       "      <th>92</th>\n",
       "      <td>The Museum of Modern Art</td>\n",
       "      <td>133166.666667</td>\n",
       "      <td>6</td>\n",
       "    </tr>\n",
       "    <tr>\n",
       "      <th>79</th>\n",
       "      <td>SAS</td>\n",
       "      <td>131533.333333</td>\n",
       "      <td>3</td>\n",
       "    </tr>\n",
       "    <tr>\n",
       "      <th>121</th>\n",
       "      <td>University of California San Diego</td>\n",
       "      <td>129555.555556</td>\n",
       "      <td>9</td>\n",
       "    </tr>\n",
       "  </tbody>\n",
       "</table>\n",
       "</div>"
      ],
      "text/plain": [
       "                                     organization  enrolled_per_course  \\\n",
       "85                            Stanford University        303375.000000   \n",
       "148                               Yale University        232470.588235   \n",
       "58                            McMaster University        230000.000000   \n",
       "33                      Google - Spectrum Sharing        210000.000000   \n",
       "52   Ludwig-Maximilians-Universität München (LMU)        192500.000000   \n",
       "151                           École Polytechnique        190000.000000   \n",
       "135                        University of Michigan        181407.317073   \n",
       "30                Georgia Institute of Technology        181300.000000   \n",
       "150                               deeplearning.ai        178962.500000   \n",
       "142                      University of Washington        167400.000000   \n",
       "123              University of California, Irvine        160222.222222   \n",
       "48                       Johns Hopkins University        153532.142857   \n",
       "145                         Vanderbilt University        144000.000000   \n",
       "20                                Duke University        141700.000000   \n",
       "149                             Yonsei University        140750.000000   \n",
       "38                                            IBM        134381.818182   \n",
       "74                                            PwC        133333.333333   \n",
       "92                       The Museum of Modern Art        133166.666667   \n",
       "79                                            SAS        131533.333333   \n",
       "121            University of California San Diego        129555.555556   \n",
       "\n",
       "     total_courses  \n",
       "85              16  \n",
       "148             17  \n",
       "58               1  \n",
       "33               1  \n",
       "52               2  \n",
       "151              1  \n",
       "135             41  \n",
       "30              10  \n",
       "150             16  \n",
       "142              5  \n",
       "123             27  \n",
       "48              28  \n",
       "145              3  \n",
       "20              28  \n",
       "149              4  \n",
       "38              22  \n",
       "74               3  \n",
       "92               6  \n",
       "79               3  \n",
       "121              9  "
      ]
     },
     "execution_count": 143,
     "metadata": {},
     "output_type": "execute_result"
    }
   ],
   "source": [
    "organization_data = (\n",
    "    courses.groupby(\"organization\")\n",
    "    .agg(\n",
    "        total_courses=(\"title\", \"count\"),\n",
    "        total_enrolled=(\"students_enrolled\", \"sum\"),\n",
    "    )\n",
    "    .reset_index()\n",
    ")\n",
    "\n",
    "organization_data[\"enrolled_per_course\"] = (\n",
    "    organization_data[\"total_enrolled\"] / organization_data[\"total_courses\"]\n",
    ")  # ratio\n",
    "\n",
    "\n",
    "organization_data = organization_data.sort_values(\n",
    "    by=\"enrolled_per_course\", ascending=False\n",
    ")\n",
    "\n",
    "organization_data[[\"organization\", \"enrolled_per_course\", \"total_courses\"]].head(20)"
   ]
  },
  {
   "cell_type": "code",
   "execution_count": 144,
   "metadata": {},
   "outputs": [
    {
     "data": {
      "application/vnd.plotly.v1+json": {
       "config": {
        "plotlyServerURL": "https://plot.ly"
       },
       "data": [
        {
         "alignmentgroup": "True",
         "hovertemplate": "Students Enrolled Per Course=%{x}<br>Organization=%{y}<extra></extra>",
         "legendgroup": "",
         "marker": {
          "color": "#636efa",
          "pattern": {
           "shape": ""
          }
         },
         "name": "",
         "offsetgroup": "",
         "orientation": "h",
         "showlegend": false,
         "textposition": "auto",
         "type": "bar",
         "x": [
          303375,
          232470.58823529413,
          230000,
          210000,
          192500,
          190000,
          181407.31707317074,
          181300,
          178962.5,
          167400,
          160222.22222222222,
          153532.14285714287,
          144000,
          141700,
          140750,
          134381.81818181818,
          133333.33333333334,
          133166.66666666666,
          131533.33333333334,
          129555.55555555556
         ],
         "xaxis": "x",
         "y": [
          "Stanford University",
          "Yale University",
          "McMaster University",
          "Google - Spectrum Sharing",
          "Ludwig-Maximilians-Universität München (LMU)",
          "École Polytechnique",
          "University of Michigan",
          "Georgia Institute of Technology",
          "deeplearning.ai",
          "University of Washington",
          "University of California, Irvine",
          "Johns Hopkins University",
          "Vanderbilt University",
          "Duke University",
          "Yonsei University",
          "IBM",
          "PwC",
          "The Museum of Modern Art",
          "SAS",
          "University of California San Diego"
         ],
         "yaxis": "y"
        }
       ],
       "layout": {
        "barmode": "relative",
        "height": 600,
        "legend": {
         "tracegroupgap": 0
        },
        "template": {
         "data": {
          "bar": [
           {
            "error_x": {
             "color": "#2a3f5f"
            },
            "error_y": {
             "color": "#2a3f5f"
            },
            "marker": {
             "line": {
              "color": "#E5ECF6",
              "width": 0.5
             },
             "pattern": {
              "fillmode": "overlay",
              "size": 10,
              "solidity": 0.2
             }
            },
            "type": "bar"
           }
          ],
          "barpolar": [
           {
            "marker": {
             "line": {
              "color": "#E5ECF6",
              "width": 0.5
             },
             "pattern": {
              "fillmode": "overlay",
              "size": 10,
              "solidity": 0.2
             }
            },
            "type": "barpolar"
           }
          ],
          "carpet": [
           {
            "aaxis": {
             "endlinecolor": "#2a3f5f",
             "gridcolor": "white",
             "linecolor": "white",
             "minorgridcolor": "white",
             "startlinecolor": "#2a3f5f"
            },
            "baxis": {
             "endlinecolor": "#2a3f5f",
             "gridcolor": "white",
             "linecolor": "white",
             "minorgridcolor": "white",
             "startlinecolor": "#2a3f5f"
            },
            "type": "carpet"
           }
          ],
          "choropleth": [
           {
            "colorbar": {
             "outlinewidth": 0,
             "ticks": ""
            },
            "type": "choropleth"
           }
          ],
          "contour": [
           {
            "colorbar": {
             "outlinewidth": 0,
             "ticks": ""
            },
            "colorscale": [
             [
              0,
              "#0d0887"
             ],
             [
              0.1111111111111111,
              "#46039f"
             ],
             [
              0.2222222222222222,
              "#7201a8"
             ],
             [
              0.3333333333333333,
              "#9c179e"
             ],
             [
              0.4444444444444444,
              "#bd3786"
             ],
             [
              0.5555555555555556,
              "#d8576b"
             ],
             [
              0.6666666666666666,
              "#ed7953"
             ],
             [
              0.7777777777777778,
              "#fb9f3a"
             ],
             [
              0.8888888888888888,
              "#fdca26"
             ],
             [
              1,
              "#f0f921"
             ]
            ],
            "type": "contour"
           }
          ],
          "contourcarpet": [
           {
            "colorbar": {
             "outlinewidth": 0,
             "ticks": ""
            },
            "type": "contourcarpet"
           }
          ],
          "heatmap": [
           {
            "colorbar": {
             "outlinewidth": 0,
             "ticks": ""
            },
            "colorscale": [
             [
              0,
              "#0d0887"
             ],
             [
              0.1111111111111111,
              "#46039f"
             ],
             [
              0.2222222222222222,
              "#7201a8"
             ],
             [
              0.3333333333333333,
              "#9c179e"
             ],
             [
              0.4444444444444444,
              "#bd3786"
             ],
             [
              0.5555555555555556,
              "#d8576b"
             ],
             [
              0.6666666666666666,
              "#ed7953"
             ],
             [
              0.7777777777777778,
              "#fb9f3a"
             ],
             [
              0.8888888888888888,
              "#fdca26"
             ],
             [
              1,
              "#f0f921"
             ]
            ],
            "type": "heatmap"
           }
          ],
          "heatmapgl": [
           {
            "colorbar": {
             "outlinewidth": 0,
             "ticks": ""
            },
            "colorscale": [
             [
              0,
              "#0d0887"
             ],
             [
              0.1111111111111111,
              "#46039f"
             ],
             [
              0.2222222222222222,
              "#7201a8"
             ],
             [
              0.3333333333333333,
              "#9c179e"
             ],
             [
              0.4444444444444444,
              "#bd3786"
             ],
             [
              0.5555555555555556,
              "#d8576b"
             ],
             [
              0.6666666666666666,
              "#ed7953"
             ],
             [
              0.7777777777777778,
              "#fb9f3a"
             ],
             [
              0.8888888888888888,
              "#fdca26"
             ],
             [
              1,
              "#f0f921"
             ]
            ],
            "type": "heatmapgl"
           }
          ],
          "histogram": [
           {
            "marker": {
             "pattern": {
              "fillmode": "overlay",
              "size": 10,
              "solidity": 0.2
             }
            },
            "type": "histogram"
           }
          ],
          "histogram2d": [
           {
            "colorbar": {
             "outlinewidth": 0,
             "ticks": ""
            },
            "colorscale": [
             [
              0,
              "#0d0887"
             ],
             [
              0.1111111111111111,
              "#46039f"
             ],
             [
              0.2222222222222222,
              "#7201a8"
             ],
             [
              0.3333333333333333,
              "#9c179e"
             ],
             [
              0.4444444444444444,
              "#bd3786"
             ],
             [
              0.5555555555555556,
              "#d8576b"
             ],
             [
              0.6666666666666666,
              "#ed7953"
             ],
             [
              0.7777777777777778,
              "#fb9f3a"
             ],
             [
              0.8888888888888888,
              "#fdca26"
             ],
             [
              1,
              "#f0f921"
             ]
            ],
            "type": "histogram2d"
           }
          ],
          "histogram2dcontour": [
           {
            "colorbar": {
             "outlinewidth": 0,
             "ticks": ""
            },
            "colorscale": [
             [
              0,
              "#0d0887"
             ],
             [
              0.1111111111111111,
              "#46039f"
             ],
             [
              0.2222222222222222,
              "#7201a8"
             ],
             [
              0.3333333333333333,
              "#9c179e"
             ],
             [
              0.4444444444444444,
              "#bd3786"
             ],
             [
              0.5555555555555556,
              "#d8576b"
             ],
             [
              0.6666666666666666,
              "#ed7953"
             ],
             [
              0.7777777777777778,
              "#fb9f3a"
             ],
             [
              0.8888888888888888,
              "#fdca26"
             ],
             [
              1,
              "#f0f921"
             ]
            ],
            "type": "histogram2dcontour"
           }
          ],
          "mesh3d": [
           {
            "colorbar": {
             "outlinewidth": 0,
             "ticks": ""
            },
            "type": "mesh3d"
           }
          ],
          "parcoords": [
           {
            "line": {
             "colorbar": {
              "outlinewidth": 0,
              "ticks": ""
             }
            },
            "type": "parcoords"
           }
          ],
          "pie": [
           {
            "automargin": true,
            "type": "pie"
           }
          ],
          "scatter": [
           {
            "fillpattern": {
             "fillmode": "overlay",
             "size": 10,
             "solidity": 0.2
            },
            "type": "scatter"
           }
          ],
          "scatter3d": [
           {
            "line": {
             "colorbar": {
              "outlinewidth": 0,
              "ticks": ""
             }
            },
            "marker": {
             "colorbar": {
              "outlinewidth": 0,
              "ticks": ""
             }
            },
            "type": "scatter3d"
           }
          ],
          "scattercarpet": [
           {
            "marker": {
             "colorbar": {
              "outlinewidth": 0,
              "ticks": ""
             }
            },
            "type": "scattercarpet"
           }
          ],
          "scattergeo": [
           {
            "marker": {
             "colorbar": {
              "outlinewidth": 0,
              "ticks": ""
             }
            },
            "type": "scattergeo"
           }
          ],
          "scattergl": [
           {
            "marker": {
             "colorbar": {
              "outlinewidth": 0,
              "ticks": ""
             }
            },
            "type": "scattergl"
           }
          ],
          "scattermapbox": [
           {
            "marker": {
             "colorbar": {
              "outlinewidth": 0,
              "ticks": ""
             }
            },
            "type": "scattermapbox"
           }
          ],
          "scatterpolar": [
           {
            "marker": {
             "colorbar": {
              "outlinewidth": 0,
              "ticks": ""
             }
            },
            "type": "scatterpolar"
           }
          ],
          "scatterpolargl": [
           {
            "marker": {
             "colorbar": {
              "outlinewidth": 0,
              "ticks": ""
             }
            },
            "type": "scatterpolargl"
           }
          ],
          "scatterternary": [
           {
            "marker": {
             "colorbar": {
              "outlinewidth": 0,
              "ticks": ""
             }
            },
            "type": "scatterternary"
           }
          ],
          "surface": [
           {
            "colorbar": {
             "outlinewidth": 0,
             "ticks": ""
            },
            "colorscale": [
             [
              0,
              "#0d0887"
             ],
             [
              0.1111111111111111,
              "#46039f"
             ],
             [
              0.2222222222222222,
              "#7201a8"
             ],
             [
              0.3333333333333333,
              "#9c179e"
             ],
             [
              0.4444444444444444,
              "#bd3786"
             ],
             [
              0.5555555555555556,
              "#d8576b"
             ],
             [
              0.6666666666666666,
              "#ed7953"
             ],
             [
              0.7777777777777778,
              "#fb9f3a"
             ],
             [
              0.8888888888888888,
              "#fdca26"
             ],
             [
              1,
              "#f0f921"
             ]
            ],
            "type": "surface"
           }
          ],
          "table": [
           {
            "cells": {
             "fill": {
              "color": "#EBF0F8"
             },
             "line": {
              "color": "white"
             }
            },
            "header": {
             "fill": {
              "color": "#C8D4E3"
             },
             "line": {
              "color": "white"
             }
            },
            "type": "table"
           }
          ]
         },
         "layout": {
          "annotationdefaults": {
           "arrowcolor": "#2a3f5f",
           "arrowhead": 0,
           "arrowwidth": 1
          },
          "autotypenumbers": "strict",
          "coloraxis": {
           "colorbar": {
            "outlinewidth": 0,
            "ticks": ""
           }
          },
          "colorscale": {
           "diverging": [
            [
             0,
             "#8e0152"
            ],
            [
             0.1,
             "#c51b7d"
            ],
            [
             0.2,
             "#de77ae"
            ],
            [
             0.3,
             "#f1b6da"
            ],
            [
             0.4,
             "#fde0ef"
            ],
            [
             0.5,
             "#f7f7f7"
            ],
            [
             0.6,
             "#e6f5d0"
            ],
            [
             0.7,
             "#b8e186"
            ],
            [
             0.8,
             "#7fbc41"
            ],
            [
             0.9,
             "#4d9221"
            ],
            [
             1,
             "#276419"
            ]
           ],
           "sequential": [
            [
             0,
             "#0d0887"
            ],
            [
             0.1111111111111111,
             "#46039f"
            ],
            [
             0.2222222222222222,
             "#7201a8"
            ],
            [
             0.3333333333333333,
             "#9c179e"
            ],
            [
             0.4444444444444444,
             "#bd3786"
            ],
            [
             0.5555555555555556,
             "#d8576b"
            ],
            [
             0.6666666666666666,
             "#ed7953"
            ],
            [
             0.7777777777777778,
             "#fb9f3a"
            ],
            [
             0.8888888888888888,
             "#fdca26"
            ],
            [
             1,
             "#f0f921"
            ]
           ],
           "sequentialminus": [
            [
             0,
             "#0d0887"
            ],
            [
             0.1111111111111111,
             "#46039f"
            ],
            [
             0.2222222222222222,
             "#7201a8"
            ],
            [
             0.3333333333333333,
             "#9c179e"
            ],
            [
             0.4444444444444444,
             "#bd3786"
            ],
            [
             0.5555555555555556,
             "#d8576b"
            ],
            [
             0.6666666666666666,
             "#ed7953"
            ],
            [
             0.7777777777777778,
             "#fb9f3a"
            ],
            [
             0.8888888888888888,
             "#fdca26"
            ],
            [
             1,
             "#f0f921"
            ]
           ]
          },
          "colorway": [
           "#636efa",
           "#EF553B",
           "#00cc96",
           "#ab63fa",
           "#FFA15A",
           "#19d3f3",
           "#FF6692",
           "#B6E880",
           "#FF97FF",
           "#FECB52"
          ],
          "font": {
           "color": "#2a3f5f"
          },
          "geo": {
           "bgcolor": "white",
           "lakecolor": "white",
           "landcolor": "#E5ECF6",
           "showlakes": true,
           "showland": true,
           "subunitcolor": "white"
          },
          "hoverlabel": {
           "align": "left"
          },
          "hovermode": "closest",
          "mapbox": {
           "style": "light"
          },
          "paper_bgcolor": "white",
          "plot_bgcolor": "#E5ECF6",
          "polar": {
           "angularaxis": {
            "gridcolor": "white",
            "linecolor": "white",
            "ticks": ""
           },
           "bgcolor": "#E5ECF6",
           "radialaxis": {
            "gridcolor": "white",
            "linecolor": "white",
            "ticks": ""
           }
          },
          "scene": {
           "xaxis": {
            "backgroundcolor": "#E5ECF6",
            "gridcolor": "white",
            "gridwidth": 2,
            "linecolor": "white",
            "showbackground": true,
            "ticks": "",
            "zerolinecolor": "white"
           },
           "yaxis": {
            "backgroundcolor": "#E5ECF6",
            "gridcolor": "white",
            "gridwidth": 2,
            "linecolor": "white",
            "showbackground": true,
            "ticks": "",
            "zerolinecolor": "white"
           },
           "zaxis": {
            "backgroundcolor": "#E5ECF6",
            "gridcolor": "white",
            "gridwidth": 2,
            "linecolor": "white",
            "showbackground": true,
            "ticks": "",
            "zerolinecolor": "white"
           }
          },
          "shapedefaults": {
           "line": {
            "color": "#2a3f5f"
           }
          },
          "ternary": {
           "aaxis": {
            "gridcolor": "white",
            "linecolor": "white",
            "ticks": ""
           },
           "baxis": {
            "gridcolor": "white",
            "linecolor": "white",
            "ticks": ""
           },
           "bgcolor": "#E5ECF6",
           "caxis": {
            "gridcolor": "white",
            "linecolor": "white",
            "ticks": ""
           }
          },
          "title": {
           "x": 0.05
          },
          "xaxis": {
           "automargin": true,
           "gridcolor": "white",
           "linecolor": "white",
           "ticks": "",
           "title": {
            "standoff": 15
           },
           "zerolinecolor": "white",
           "zerolinewidth": 2
          },
          "yaxis": {
           "automargin": true,
           "gridcolor": "white",
           "linecolor": "white",
           "ticks": "",
           "title": {
            "standoff": 15
           },
           "zerolinecolor": "white",
           "zerolinewidth": 2
          }
         }
        },
        "title": {
         "text": "Top 20 Organizations by Student Enrolled per Course"
        },
        "width": 1000,
        "xaxis": {
         "anchor": "y",
         "domain": [
          0,
          1
         ],
         "title": {
          "text": "Students Enrolled Per Course"
         }
        },
        "yaxis": {
         "anchor": "x",
         "categoryorder": "total ascending",
         "domain": [
          0,
          1
         ],
         "title": {
          "text": "Organization"
         }
        }
       }
      }
     },
     "metadata": {},
     "output_type": "display_data"
    }
   ],
   "source": [
    "fig = px.bar(\n",
    "    organization_data[:20],\n",
    "    x=\"enrolled_per_course\",\n",
    "    y=\"organization\",\n",
    "    orientation=\"h\",\n",
    "    title=\"Top 20 Organizations by Student Enrolled per Course\",\n",
    "    labels={\n",
    "        \"enrolled_per_course\": \"Students Enrolled Per Course\",\n",
    "        \"organization\": \"Organization\",\n",
    "    },\n",
    ")\n",
    "fig.update_layout(\n",
    "    width=1000,\n",
    "    height=600,\n",
    "    yaxis={\"categoryorder\": \"total ascending\"},\n",
    ")"
   ]
  },
  {
   "cell_type": "markdown",
   "metadata": {},
   "source": [
    "### Recommendations for Optimization  \n",
    "\n",
    "1. **Focus on Popular Certification Types**  \n",
    "   - **Observation**: Professional Certificates attract higher average enrollments.  \n",
    "   - **Recommendation**: Coursera should prioritize creating and marketing Professional Certificates, particularly in trending domains like data science and programming.\n",
    "\n",
    "2. **Expand Mixed-Difficulty Courses**  \n",
    "   - **Observation**: Mixed-difficulty courses are the most popular among learners.  \n",
    "   - **Recommendation**: Develop more courses with mixed difficulty to cater to a broader audience, appealing to both beginners and advanced learners.\n",
    "\n",
    "3. **Enhance Advanced-Level Course Engagement**  \n",
    "   - **Observation**: Enrollment for advanced-level courses is minimal.  \n",
    "   - **Recommendation**: Consider offering additional support like guided learning paths, prerequisite bundles, or targeted marketing to encourage enrollment in advanced courses.\n",
    "\n",
    "4. **Leverage Top Organizations’ Popularity**  \n",
    "   - **Observation**: Organizations like the University of Michigan are leading in popularity.  \n",
    "   - **Recommendation**: Collaborate more with these popular institutions to develop exclusive content or promote their existing courses.\n",
    "\n",
    "5. **Boost Ratings for Specialization Certificates**  \n",
    "   - **Observation**: Specialization certificates have lower ratings compared to other certification types.  \n",
    "   - **Recommendation**: Improve the quality of specialization courses by incorporating engaging content, providing timely feedback, and ensuring clear course objectives.\n",
    "\n",
    "6. **Target Data Science and Programming Enthusiasts**  \n",
    "   - **Observation**: Data science and programming dominate the top 20 most popular courses.  \n",
    "   - **Recommendation**: Invest in creating advanced and niche courses within these fields to attract professionals seeking in-depth knowledge.\n",
    "\n",
    "7. **Incorporate Learner Feedback Mechanisms**  \n",
    "   - **Observation**: No correlation was found between ratings and enrollment, indicating potential gaps in understanding learner preferences.  \n",
    "   - **Recommendation**: Add post-completion surveys to gather insights about course satisfaction, engagement, and areas for improvement.\n"
   ]
  },
  {
   "cell_type": "markdown",
   "metadata": {},
   "source": [
    "# Conclusion  \n",
    "\n",
    "This analysis of the Coursera course dataset uncovered valuable insights into course trends, learner preferences, and areas for improvement. \n",
    "- Most courses cater to **beginners**, with high ratings predominantly between 4.7 and 4.8. \n",
    "- However, **mixed-difficulty** courses emerged as the **most popular**, while **advanced-level** courses saw **minimal enrollment**. \n",
    "- **Professional Certificates** were found to attract the **highest average enrollments**, while **specialization certificates** struggled with **lower ratings**. \n",
    "- Universities like the University of Michigan and the University of Pennsylvania played a significant role in course offerings and popularity.\n",
    "\n",
    "To optimize outcomes, Coursera can focus on popular certification types, expand mixed-difficulty courses, and develop strategies to enhance engagement with advanced-level content. By leveraging learner feedback, collaborating with leading institutions, and targeting key demographics, Coursera can further strengthen its offerings and better align with learner needs. With these recommendations, Coursera has an opportunity to enhance both learner satisfaction and overall platform success.\n"
   ]
  },
  {
   "cell_type": "markdown",
   "metadata": {},
   "source": [
    "### Suggestions for Improvement\n",
    "\n",
    "- Additional Features: Include factors such as course price, reviews, or instructor experience for deeper insights. Bias as to the course created time\n",
    "- Segmentation: Segment courses based on ratings or enrollment into low, medium, and high to find patterns.\n",
    "- Text Analysis: Analyze title for trends in keywords indicating popular topics."
   ]
  }
 ],
 "metadata": {
  "kernelspec": {
   "display_name": "Python 3",
   "language": "python",
   "name": "python3"
  },
  "language_info": {
   "codemirror_mode": {
    "name": "ipython",
    "version": 3
   },
   "file_extension": ".py",
   "mimetype": "text/x-python",
   "name": "python",
   "nbconvert_exporter": "python",
   "pygments_lexer": "ipython3",
   "version": "3.10.7"
  }
 },
 "nbformat": 4,
 "nbformat_minor": 2
}
