{
 "cells": [
  {
   "cell_type": "markdown",
   "metadata": {},
   "source": [
    "# Coursera course exploration"
   ]
  },
  {
   "cell_type": "code",
   "execution_count": null,
   "metadata": {},
   "outputs": [
    {
     "name": "stdout",
     "output_type": "stream",
     "text": [
      "Setup Complete\n"
     ]
    }
   ],
   "source": [
    "import pandas as pd\n",
    "pd.plotting.register_matplotlib_converters()\n",
    "import matplotlib.pyplot as plt\n",
    "%matplotlib inline\n",
    "import seaborn as sns\n",
    "import pandas as pd\n",
    "import plotly\n",
    "import plotly.express as px\n",
    "import plotly.graph_objects as go\n",
    "from plotly.subplots import make_subplots\n",
    "print('Setup Complete')"
   ]
  },
  {
   "cell_type": "code",
   "execution_count": 2,
   "metadata": {},
   "outputs": [
    {
     "name": "stdout",
     "output_type": "stream",
     "text": [
      " Volume in drive C is OS\n",
      " Volume Serial Number is 9457-9F9E\n",
      "\n",
      " Directory of c:\\Users\\vemkh\\Desktop\\Github projects\\Coursera_course\\ekhach-PYDA.3.5\n",
      "\n",
      "11/21/2024  08:55 PM    <DIR>          .\n",
      "11/21/2024  08:55 PM    <DIR>          ..\n",
      "05/25/2020  05:52 AM            23,302 coursera-course-dataset.zip\n",
      "11/21/2024  10:14 PM           284,536 coursera_course_exploration.ipynb\n",
      "05/25/2020  05:52 AM            84,956 coursera_data.csv\n",
      "11/21/2024  04:01 AM             4,258 DA_PY_3_5.ipynb\n",
      "11/21/2024  04:01 AM                11 README.md\n",
      "               5 File(s)        397,063 bytes\n",
      "               2 Dir(s)  252,051,300,352 bytes free\n"
     ]
    }
   ],
   "source": [
    "!dir"
   ]
  },
  {
   "cell_type": "code",
   "execution_count": 3,
   "metadata": {},
   "outputs": [
    {
     "data": {
      "text/html": [
       "<div>\n",
       "<style scoped>\n",
       "    .dataframe tbody tr th:only-of-type {\n",
       "        vertical-align: middle;\n",
       "    }\n",
       "\n",
       "    .dataframe tbody tr th {\n",
       "        vertical-align: top;\n",
       "    }\n",
       "\n",
       "    .dataframe thead th {\n",
       "        text-align: right;\n",
       "    }\n",
       "</style>\n",
       "<table border=\"1\" class=\"dataframe\">\n",
       "  <thead>\n",
       "    <tr style=\"text-align: right;\">\n",
       "      <th></th>\n",
       "      <th>course_title</th>\n",
       "      <th>course_organization</th>\n",
       "      <th>course_Certificate_type</th>\n",
       "      <th>course_rating</th>\n",
       "      <th>course_difficulty</th>\n",
       "      <th>course_students_enrolled</th>\n",
       "    </tr>\n",
       "  </thead>\n",
       "  <tbody>\n",
       "    <tr>\n",
       "      <th>134</th>\n",
       "      <td>(ISC)² Systems Security Certified Practitioner...</td>\n",
       "      <td>(ISC)²</td>\n",
       "      <td>SPECIALIZATION</td>\n",
       "      <td>4.7</td>\n",
       "      <td>Beginner</td>\n",
       "      <td>5.3k</td>\n",
       "    </tr>\n",
       "    <tr>\n",
       "      <th>743</th>\n",
       "      <td>A Crash Course in Causality:  Inferring Causal...</td>\n",
       "      <td>University of Pennsylvania</td>\n",
       "      <td>COURSE</td>\n",
       "      <td>4.7</td>\n",
       "      <td>Intermediate</td>\n",
       "      <td>17k</td>\n",
       "    </tr>\n",
       "    <tr>\n",
       "      <th>874</th>\n",
       "      <td>A Crash Course in Data Science</td>\n",
       "      <td>Johns Hopkins University</td>\n",
       "      <td>COURSE</td>\n",
       "      <td>4.5</td>\n",
       "      <td>Mixed</td>\n",
       "      <td>130k</td>\n",
       "    </tr>\n",
       "  </tbody>\n",
       "</table>\n",
       "</div>"
      ],
      "text/plain": [
       "                                          course_title  \\\n",
       "134  (ISC)² Systems Security Certified Practitioner...   \n",
       "743  A Crash Course in Causality:  Inferring Causal...   \n",
       "874                     A Crash Course in Data Science   \n",
       "\n",
       "            course_organization course_Certificate_type  course_rating  \\\n",
       "134                      (ISC)²          SPECIALIZATION            4.7   \n",
       "743  University of Pennsylvania                  COURSE            4.7   \n",
       "874    Johns Hopkins University                  COURSE            4.5   \n",
       "\n",
       "    course_difficulty course_students_enrolled  \n",
       "134          Beginner                     5.3k  \n",
       "743      Intermediate                      17k  \n",
       "874             Mixed                     130k  "
      ]
     },
     "execution_count": 3,
     "metadata": {},
     "output_type": "execute_result"
    }
   ],
   "source": [
    "courses = pd.read_csv(\"Coursera_data.csv\", index_col=[0])\n",
    "courses[:3]"
   ]
  },
  {
   "cell_type": "markdown",
   "metadata": {},
   "source": [
    "# Data cleaning"
   ]
  },
  {
   "cell_type": "code",
   "execution_count": 4,
   "metadata": {},
   "outputs": [
    {
     "data": {
      "text/plain": [
       "(891, 6)"
      ]
     },
     "execution_count": 4,
     "metadata": {},
     "output_type": "execute_result"
    }
   ],
   "source": [
    "courses.shape"
   ]
  },
  {
   "cell_type": "code",
   "execution_count": 5,
   "metadata": {},
   "outputs": [
    {
     "name": "stdout",
     "output_type": "stream",
     "text": [
      "<class 'pandas.core.frame.DataFrame'>\n",
      "Int64Index: 891 entries, 134 to 163\n",
      "Data columns (total 6 columns):\n",
      " #   Column                    Non-Null Count  Dtype  \n",
      "---  ------                    --------------  -----  \n",
      " 0   course_title              891 non-null    object \n",
      " 1   course_organization       891 non-null    object \n",
      " 2   course_Certificate_type   891 non-null    object \n",
      " 3   course_rating             891 non-null    float64\n",
      " 4   course_difficulty         891 non-null    object \n",
      " 5   course_students_enrolled  891 non-null    object \n",
      "dtypes: float64(1), object(5)\n",
      "memory usage: 48.7+ KB\n"
     ]
    }
   ],
   "source": [
    "courses.info()"
   ]
  },
  {
   "cell_type": "code",
   "execution_count": 6,
   "metadata": {},
   "outputs": [
    {
     "data": {
      "text/plain": [
       "course_title                0\n",
       "course_organization         0\n",
       "course_Certificate_type     0\n",
       "course_rating               0\n",
       "course_difficulty           0\n",
       "course_students_enrolled    0\n",
       "dtype: int64"
      ]
     },
     "execution_count": 6,
     "metadata": {},
     "output_type": "execute_result"
    }
   ],
   "source": [
    "courses.isnull().sum()"
   ]
  },
  {
   "cell_type": "code",
   "execution_count": 7,
   "metadata": {},
   "outputs": [
    {
     "data": {
      "text/plain": [
       "False"
      ]
     },
     "execution_count": 7,
     "metadata": {},
     "output_type": "execute_result"
    }
   ],
   "source": [
    "courses.duplicated().any()"
   ]
  },
  {
   "cell_type": "code",
   "execution_count": 8,
   "metadata": {},
   "outputs": [
    {
     "data": {
      "text/html": [
       "<div>\n",
       "<style scoped>\n",
       "    .dataframe tbody tr th:only-of-type {\n",
       "        vertical-align: middle;\n",
       "    }\n",
       "\n",
       "    .dataframe tbody tr th {\n",
       "        vertical-align: top;\n",
       "    }\n",
       "\n",
       "    .dataframe thead th {\n",
       "        text-align: right;\n",
       "    }\n",
       "</style>\n",
       "<table border=\"1\" class=\"dataframe\">\n",
       "  <thead>\n",
       "    <tr style=\"text-align: right;\">\n",
       "      <th></th>\n",
       "      <th>course_title</th>\n",
       "      <th>course_organization</th>\n",
       "      <th>course_Certificate_type</th>\n",
       "      <th>course_rating</th>\n",
       "      <th>course_difficulty</th>\n",
       "      <th>course_students_enrolled</th>\n",
       "    </tr>\n",
       "  </thead>\n",
       "  <tbody>\n",
       "    <tr>\n",
       "      <th>756</th>\n",
       "      <td>Developing Your Musicianship</td>\n",
       "      <td>Berklee College of Music</td>\n",
       "      <td>COURSE</td>\n",
       "      <td>4.8</td>\n",
       "      <td>Mixed</td>\n",
       "      <td>41k</td>\n",
       "    </tr>\n",
       "    <tr>\n",
       "      <th>205</th>\n",
       "      <td>Developing Your Musicianship</td>\n",
       "      <td>Berklee College of Music</td>\n",
       "      <td>SPECIALIZATION</td>\n",
       "      <td>4.8</td>\n",
       "      <td>Beginner</td>\n",
       "      <td>54k</td>\n",
       "    </tr>\n",
       "    <tr>\n",
       "      <th>181</th>\n",
       "      <td>Machine Learning</td>\n",
       "      <td>University of Washington</td>\n",
       "      <td>SPECIALIZATION</td>\n",
       "      <td>4.6</td>\n",
       "      <td>Intermediate</td>\n",
       "      <td>290k</td>\n",
       "    </tr>\n",
       "    <tr>\n",
       "      <th>6</th>\n",
       "      <td>Machine Learning</td>\n",
       "      <td>Stanford University</td>\n",
       "      <td>COURSE</td>\n",
       "      <td>4.9</td>\n",
       "      <td>Mixed</td>\n",
       "      <td>3.2m</td>\n",
       "    </tr>\n",
       "    <tr>\n",
       "      <th>241</th>\n",
       "      <td>Marketing Digital</td>\n",
       "      <td>Universidade de São Paulo</td>\n",
       "      <td>COURSE</td>\n",
       "      <td>4.8</td>\n",
       "      <td>Beginner</td>\n",
       "      <td>81k</td>\n",
       "    </tr>\n",
       "    <tr>\n",
       "      <th>325</th>\n",
       "      <td>Marketing Digital</td>\n",
       "      <td>Universidad Austral</td>\n",
       "      <td>SPECIALIZATION</td>\n",
       "      <td>4.7</td>\n",
       "      <td>Beginner</td>\n",
       "      <td>39k</td>\n",
       "    </tr>\n",
       "  </tbody>\n",
       "</table>\n",
       "</div>"
      ],
      "text/plain": [
       "                     course_title        course_organization  \\\n",
       "756  Developing Your Musicianship   Berklee College of Music   \n",
       "205  Developing Your Musicianship   Berklee College of Music   \n",
       "181              Machine Learning   University of Washington   \n",
       "6                Machine Learning        Stanford University   \n",
       "241             Marketing Digital  Universidade de São Paulo   \n",
       "325             Marketing Digital        Universidad Austral   \n",
       "\n",
       "    course_Certificate_type  course_rating course_difficulty  \\\n",
       "756                  COURSE            4.8             Mixed   \n",
       "205          SPECIALIZATION            4.8          Beginner   \n",
       "181          SPECIALIZATION            4.6      Intermediate   \n",
       "6                    COURSE            4.9             Mixed   \n",
       "241                  COURSE            4.8          Beginner   \n",
       "325          SPECIALIZATION            4.7          Beginner   \n",
       "\n",
       "    course_students_enrolled  \n",
       "756                      41k  \n",
       "205                      54k  \n",
       "181                     290k  \n",
       "6                       3.2m  \n",
       "241                      81k  \n",
       "325                      39k  "
      ]
     },
     "execution_count": 8,
     "metadata": {},
     "output_type": "execute_result"
    }
   ],
   "source": [
    "map = courses.duplicated(\"course_title\", keep=False)\n",
    "courses[map]"
   ]
  },
  {
   "cell_type": "markdown",
   "metadata": {},
   "source": [
    "No duplicates or Null values"
   ]
  },
  {
   "cell_type": "code",
   "execution_count": 9,
   "metadata": {},
   "outputs": [],
   "source": [
    "# removing any possible excess spaces\n",
    "courses = courses.applymap(lambda x: x.strip() if isinstance(x, str) else x)"
   ]
  },
  {
   "cell_type": "code",
   "execution_count": 10,
   "metadata": {},
   "outputs": [
    {
     "data": {
      "text/plain": [
       "course_title                 object\n",
       "course_organization          object\n",
       "course_Certificate_type      object\n",
       "course_rating               float64\n",
       "course_difficulty            object\n",
       "course_students_enrolled     object\n",
       "dtype: object"
      ]
     },
     "execution_count": 10,
     "metadata": {},
     "output_type": "execute_result"
    }
   ],
   "source": [
    "courses.dtypes"
   ]
  },
  {
   "cell_type": "code",
   "execution_count": 11,
   "metadata": {},
   "outputs": [
    {
     "data": {
      "text/html": [
       "<div>\n",
       "<style scoped>\n",
       "    .dataframe tbody tr th:only-of-type {\n",
       "        vertical-align: middle;\n",
       "    }\n",
       "\n",
       "    .dataframe tbody tr th {\n",
       "        vertical-align: top;\n",
       "    }\n",
       "\n",
       "    .dataframe thead th {\n",
       "        text-align: right;\n",
       "    }\n",
       "</style>\n",
       "<table border=\"1\" class=\"dataframe\">\n",
       "  <thead>\n",
       "    <tr style=\"text-align: right;\">\n",
       "      <th></th>\n",
       "      <th>course_title</th>\n",
       "      <th>course_organization</th>\n",
       "      <th>course_Certificate_type</th>\n",
       "      <th>course_rating</th>\n",
       "      <th>course_difficulty</th>\n",
       "      <th>course_students_enrolled</th>\n",
       "    </tr>\n",
       "  </thead>\n",
       "  <tbody>\n",
       "    <tr>\n",
       "      <th>134</th>\n",
       "      <td>(ISC)² Systems Security Certified Practitioner...</td>\n",
       "      <td>(ISC)²</td>\n",
       "      <td>SPECIALIZATION</td>\n",
       "      <td>4.7</td>\n",
       "      <td>Beginner</td>\n",
       "      <td>5300</td>\n",
       "    </tr>\n",
       "    <tr>\n",
       "      <th>743</th>\n",
       "      <td>A Crash Course in Causality:  Inferring Causal...</td>\n",
       "      <td>University of Pennsylvania</td>\n",
       "      <td>COURSE</td>\n",
       "      <td>4.7</td>\n",
       "      <td>Intermediate</td>\n",
       "      <td>17000</td>\n",
       "    </tr>\n",
       "    <tr>\n",
       "      <th>874</th>\n",
       "      <td>A Crash Course in Data Science</td>\n",
       "      <td>Johns Hopkins University</td>\n",
       "      <td>COURSE</td>\n",
       "      <td>4.5</td>\n",
       "      <td>Mixed</td>\n",
       "      <td>130000</td>\n",
       "    </tr>\n",
       "    <tr>\n",
       "      <th>413</th>\n",
       "      <td>A Law Student's Toolkit</td>\n",
       "      <td>Yale University</td>\n",
       "      <td>COURSE</td>\n",
       "      <td>4.7</td>\n",
       "      <td>Mixed</td>\n",
       "      <td>91000</td>\n",
       "    </tr>\n",
       "    <tr>\n",
       "      <th>635</th>\n",
       "      <td>A Life of Happiness and Fulfillment</td>\n",
       "      <td>Indian School of Business</td>\n",
       "      <td>COURSE</td>\n",
       "      <td>4.8</td>\n",
       "      <td>Mixed</td>\n",
       "      <td>320000</td>\n",
       "    </tr>\n",
       "    <tr>\n",
       "      <th>...</th>\n",
       "      <td>...</td>\n",
       "      <td>...</td>\n",
       "      <td>...</td>\n",
       "      <td>...</td>\n",
       "      <td>...</td>\n",
       "      <td>...</td>\n",
       "    </tr>\n",
       "    <tr>\n",
       "      <th>236</th>\n",
       "      <td>Программирование на Python</td>\n",
       "      <td>Mail.Ru Group</td>\n",
       "      <td>SPECIALIZATION</td>\n",
       "      <td>4.5</td>\n",
       "      <td>Intermediate</td>\n",
       "      <td>52000</td>\n",
       "    </tr>\n",
       "    <tr>\n",
       "      <th>883</th>\n",
       "      <td>Психолингвистика (Psycholinguistics)</td>\n",
       "      <td>Saint Petersburg State University</td>\n",
       "      <td>COURSE</td>\n",
       "      <td>4.8</td>\n",
       "      <td>Mixed</td>\n",
       "      <td>21000</td>\n",
       "    </tr>\n",
       "    <tr>\n",
       "      <th>545</th>\n",
       "      <td>Разработка интерфейсов: вёрстка и JavaScript</td>\n",
       "      <td>E-Learning Development Fund</td>\n",
       "      <td>SPECIALIZATION</td>\n",
       "      <td>4.5</td>\n",
       "      <td>Intermediate</td>\n",
       "      <td>30000</td>\n",
       "    </tr>\n",
       "    <tr>\n",
       "      <th>875</th>\n",
       "      <td>Русский как иностранный</td>\n",
       "      <td>Saint Petersburg State University</td>\n",
       "      <td>SPECIALIZATION</td>\n",
       "      <td>4.6</td>\n",
       "      <td>Intermediate</td>\n",
       "      <td>9800</td>\n",
       "    </tr>\n",
       "    <tr>\n",
       "      <th>163</th>\n",
       "      <td>Финансовые инструменты для частного инвестора</td>\n",
       "      <td>National Research University Higher School of ...</td>\n",
       "      <td>SPECIALIZATION</td>\n",
       "      <td>4.7</td>\n",
       "      <td>Beginner</td>\n",
       "      <td>38000</td>\n",
       "    </tr>\n",
       "  </tbody>\n",
       "</table>\n",
       "<p>891 rows × 6 columns</p>\n",
       "</div>"
      ],
      "text/plain": [
       "                                          course_title  \\\n",
       "134  (ISC)² Systems Security Certified Practitioner...   \n",
       "743  A Crash Course in Causality:  Inferring Causal...   \n",
       "874                     A Crash Course in Data Science   \n",
       "413                            A Law Student's Toolkit   \n",
       "635                A Life of Happiness and Fulfillment   \n",
       "..                                                 ...   \n",
       "236                         Программирование на Python   \n",
       "883               Психолингвистика (Psycholinguistics)   \n",
       "545       Разработка интерфейсов: вёрстка и JavaScript   \n",
       "875                            Русский как иностранный   \n",
       "163      Финансовые инструменты для частного инвестора   \n",
       "\n",
       "                                   course_organization  \\\n",
       "134                                             (ISC)²   \n",
       "743                         University of Pennsylvania   \n",
       "874                           Johns Hopkins University   \n",
       "413                                    Yale University   \n",
       "635                          Indian School of Business   \n",
       "..                                                 ...   \n",
       "236                                      Mail.Ru Group   \n",
       "883                  Saint Petersburg State University   \n",
       "545                        E-Learning Development Fund   \n",
       "875                  Saint Petersburg State University   \n",
       "163  National Research University Higher School of ...   \n",
       "\n",
       "    course_Certificate_type  course_rating course_difficulty  \\\n",
       "134          SPECIALIZATION            4.7          Beginner   \n",
       "743                  COURSE            4.7      Intermediate   \n",
       "874                  COURSE            4.5             Mixed   \n",
       "413                  COURSE            4.7             Mixed   \n",
       "635                  COURSE            4.8             Mixed   \n",
       "..                      ...            ...               ...   \n",
       "236          SPECIALIZATION            4.5      Intermediate   \n",
       "883                  COURSE            4.8             Mixed   \n",
       "545          SPECIALIZATION            4.5      Intermediate   \n",
       "875          SPECIALIZATION            4.6      Intermediate   \n",
       "163          SPECIALIZATION            4.7          Beginner   \n",
       "\n",
       "     course_students_enrolled  \n",
       "134                      5300  \n",
       "743                     17000  \n",
       "874                    130000  \n",
       "413                     91000  \n",
       "635                    320000  \n",
       "..                        ...  \n",
       "236                     52000  \n",
       "883                     21000  \n",
       "545                     30000  \n",
       "875                      9800  \n",
       "163                     38000  \n",
       "\n",
       "[891 rows x 6 columns]"
      ]
     },
     "execution_count": 11,
     "metadata": {},
     "output_type": "execute_result"
    }
   ],
   "source": [
    "# Changing 'course_students_enrolled' to numeric form\n",
    "def convert_to_num(value):\n",
    "    if isinstance(value, str):\n",
    "        if \"k\" in value:\n",
    "            return int(float(value.replace(\"k\", \"\").replace(\",\", \"\")) * 1000)\n",
    "        elif \"m\" in value:\n",
    "            return int(float(value.replace(\"m\", \"\").replace(\",\", \"\")) * 1000000)\n",
    "\n",
    "    return int(value)\n",
    "\n",
    "\n",
    "courses.course_students_enrolled = courses.course_students_enrolled.apply(\n",
    "    convert_to_num\n",
    ")\n",
    "courses"
   ]
  },
  {
   "cell_type": "markdown",
   "metadata": {},
   "source": [
    "# EDA"
   ]
  },
  {
   "cell_type": "markdown",
   "metadata": {},
   "source": [
    "General info"
   ]
  },
  {
   "cell_type": "code",
   "execution_count": 12,
   "metadata": {},
   "outputs": [
    {
     "data": {
      "text/html": [
       "<div>\n",
       "<style scoped>\n",
       "    .dataframe tbody tr th:only-of-type {\n",
       "        vertical-align: middle;\n",
       "    }\n",
       "\n",
       "    .dataframe tbody tr th {\n",
       "        vertical-align: top;\n",
       "    }\n",
       "\n",
       "    .dataframe thead th {\n",
       "        text-align: right;\n",
       "    }\n",
       "</style>\n",
       "<table border=\"1\" class=\"dataframe\">\n",
       "  <thead>\n",
       "    <tr style=\"text-align: right;\">\n",
       "      <th></th>\n",
       "      <th>course_title</th>\n",
       "      <th>course_organization</th>\n",
       "      <th>course_Certificate_type</th>\n",
       "      <th>course_rating</th>\n",
       "      <th>course_difficulty</th>\n",
       "      <th>course_students_enrolled</th>\n",
       "    </tr>\n",
       "  </thead>\n",
       "  <tbody>\n",
       "    <tr>\n",
       "      <th>count</th>\n",
       "      <td>891</td>\n",
       "      <td>891</td>\n",
       "      <td>891</td>\n",
       "      <td>891.000000</td>\n",
       "      <td>891</td>\n",
       "      <td>8.910000e+02</td>\n",
       "    </tr>\n",
       "    <tr>\n",
       "      <th>unique</th>\n",
       "      <td>888</td>\n",
       "      <td>154</td>\n",
       "      <td>3</td>\n",
       "      <td>NaN</td>\n",
       "      <td>4</td>\n",
       "      <td>NaN</td>\n",
       "    </tr>\n",
       "    <tr>\n",
       "      <th>top</th>\n",
       "      <td>Developing Your Musicianship</td>\n",
       "      <td>University of Pennsylvania</td>\n",
       "      <td>COURSE</td>\n",
       "      <td>NaN</td>\n",
       "      <td>Beginner</td>\n",
       "      <td>NaN</td>\n",
       "    </tr>\n",
       "    <tr>\n",
       "      <th>freq</th>\n",
       "      <td>2</td>\n",
       "      <td>59</td>\n",
       "      <td>582</td>\n",
       "      <td>NaN</td>\n",
       "      <td>487</td>\n",
       "      <td>NaN</td>\n",
       "    </tr>\n",
       "    <tr>\n",
       "      <th>mean</th>\n",
       "      <td>NaN</td>\n",
       "      <td>NaN</td>\n",
       "      <td>NaN</td>\n",
       "      <td>4.677329</td>\n",
       "      <td>NaN</td>\n",
       "      <td>9.055208e+04</td>\n",
       "    </tr>\n",
       "    <tr>\n",
       "      <th>std</th>\n",
       "      <td>NaN</td>\n",
       "      <td>NaN</td>\n",
       "      <td>NaN</td>\n",
       "      <td>0.162225</td>\n",
       "      <td>NaN</td>\n",
       "      <td>1.819365e+05</td>\n",
       "    </tr>\n",
       "    <tr>\n",
       "      <th>min</th>\n",
       "      <td>NaN</td>\n",
       "      <td>NaN</td>\n",
       "      <td>NaN</td>\n",
       "      <td>3.300000</td>\n",
       "      <td>NaN</td>\n",
       "      <td>1.500000e+03</td>\n",
       "    </tr>\n",
       "    <tr>\n",
       "      <th>25%</th>\n",
       "      <td>NaN</td>\n",
       "      <td>NaN</td>\n",
       "      <td>NaN</td>\n",
       "      <td>4.600000</td>\n",
       "      <td>NaN</td>\n",
       "      <td>1.750000e+04</td>\n",
       "    </tr>\n",
       "    <tr>\n",
       "      <th>50%</th>\n",
       "      <td>NaN</td>\n",
       "      <td>NaN</td>\n",
       "      <td>NaN</td>\n",
       "      <td>4.700000</td>\n",
       "      <td>NaN</td>\n",
       "      <td>4.200000e+04</td>\n",
       "    </tr>\n",
       "    <tr>\n",
       "      <th>75%</th>\n",
       "      <td>NaN</td>\n",
       "      <td>NaN</td>\n",
       "      <td>NaN</td>\n",
       "      <td>4.800000</td>\n",
       "      <td>NaN</td>\n",
       "      <td>9.950000e+04</td>\n",
       "    </tr>\n",
       "    <tr>\n",
       "      <th>max</th>\n",
       "      <td>NaN</td>\n",
       "      <td>NaN</td>\n",
       "      <td>NaN</td>\n",
       "      <td>5.000000</td>\n",
       "      <td>NaN</td>\n",
       "      <td>3.200000e+06</td>\n",
       "    </tr>\n",
       "  </tbody>\n",
       "</table>\n",
       "</div>"
      ],
      "text/plain": [
       "                        course_title         course_organization  \\\n",
       "count                            891                         891   \n",
       "unique                           888                         154   \n",
       "top     Developing Your Musicianship  University of Pennsylvania   \n",
       "freq                               2                          59   \n",
       "mean                             NaN                         NaN   \n",
       "std                              NaN                         NaN   \n",
       "min                              NaN                         NaN   \n",
       "25%                              NaN                         NaN   \n",
       "50%                              NaN                         NaN   \n",
       "75%                              NaN                         NaN   \n",
       "max                              NaN                         NaN   \n",
       "\n",
       "       course_Certificate_type  course_rating course_difficulty  \\\n",
       "count                      891     891.000000               891   \n",
       "unique                       3            NaN                 4   \n",
       "top                     COURSE            NaN          Beginner   \n",
       "freq                       582            NaN               487   \n",
       "mean                       NaN       4.677329               NaN   \n",
       "std                        NaN       0.162225               NaN   \n",
       "min                        NaN       3.300000               NaN   \n",
       "25%                        NaN       4.600000               NaN   \n",
       "50%                        NaN       4.700000               NaN   \n",
       "75%                        NaN       4.800000               NaN   \n",
       "max                        NaN       5.000000               NaN   \n",
       "\n",
       "        course_students_enrolled  \n",
       "count               8.910000e+02  \n",
       "unique                       NaN  \n",
       "top                          NaN  \n",
       "freq                         NaN  \n",
       "mean                9.055208e+04  \n",
       "std                 1.819365e+05  \n",
       "min                 1.500000e+03  \n",
       "25%                 1.750000e+04  \n",
       "50%                 4.200000e+04  \n",
       "75%                 9.950000e+04  \n",
       "max                 3.200000e+06  "
      ]
     },
     "execution_count": 12,
     "metadata": {},
     "output_type": "execute_result"
    }
   ],
   "source": [
    "courses.describe()\n",
    "courses.describe(include=\"all\")"
   ]
  },
  {
   "cell_type": "markdown",
   "metadata": {},
   "source": [
    "Categorical"
   ]
  },
  {
   "cell_type": "code",
   "execution_count": 13,
   "metadata": {},
   "outputs": [
    {
     "data": {
      "text/plain": [
       "['course_title',\n",
       " 'course_organization',\n",
       " 'course_Certificate_type',\n",
       " 'course_difficulty']"
      ]
     },
     "execution_count": 13,
     "metadata": {},
     "output_type": "execute_result"
    }
   ],
   "source": [
    "list(courses.select_dtypes(include=\"object\").columns)"
   ]
  },
  {
   "cell_type": "markdown",
   "metadata": {},
   "source": [
    "Numeric"
   ]
  },
  {
   "cell_type": "code",
   "execution_count": 14,
   "metadata": {},
   "outputs": [
    {
     "data": {
      "text/plain": [
       "['course_rating', 'course_students_enrolled']"
      ]
     },
     "execution_count": 14,
     "metadata": {},
     "output_type": "execute_result"
    }
   ],
   "source": [
    "list(courses.select_dtypes(exclude=\"object\").columns)"
   ]
  },
  {
   "cell_type": "markdown",
   "metadata": {},
   "source": [
    "Number of organizations"
   ]
  },
  {
   "cell_type": "code",
   "execution_count": 15,
   "metadata": {},
   "outputs": [
    {
     "data": {
      "text/plain": [
       "154"
      ]
     },
     "execution_count": 15,
     "metadata": {},
     "output_type": "execute_result"
    }
   ],
   "source": [
    "courses.course_organization.value_counts().size"
   ]
  },
  {
   "cell_type": "code",
   "execution_count": 16,
   "metadata": {},
   "outputs": [
    {
     "data": {
      "text/plain": [
       "Text(0.5, 0, 'Rating')"
      ]
     },
     "execution_count": 16,
     "metadata": {},
     "output_type": "execute_result"
    },
    {
     "data": {
      "image/png": "[encoded data removed]",
      "text/plain": [
       "<Figure size 640x480 with 1 Axes>"
      ]
     },
     "metadata": {},
     "output_type": "display_data"
    }
   ],
   "source": [
    "rating_counts = courses[\"course_rating\"].value_counts()\n",
    "rating_counts.sort_index().plot(kind=\"bar\")\n",
    "plt.title(f\"Average Rating: {courses['course_rating'].mean():.2f}\")\n",
    "plt.ylabel(\"Count\")\n",
    "plt.xlabel(\"Rating\")"
   ]
  },
  {
   "cell_type": "code",
   "execution_count": 32,
   "metadata": {},
   "outputs": [
    {
     "data": {
      "text/plain": [
       "Text(0.5, 0, 'Difficulty Level')"
      ]
     },
     "execution_count": 32,
     "metadata": {},
     "output_type": "execute_result"
    },
    {
     "data": {
      "image/png": "[encoded data removed]",
      "text/plain": [
       "<Figure size 800x600 with 1 Axes>"
      ]
     },
     "metadata": {},
     "output_type": "display_data"
    }
   ],
   "source": [
    "fig, ax = plt.subplots(figsize=(8, 6))\n",
    "ax = courses.groupby(\"course_difficulty\").size().sort_values().plot(kind=\"barh\")\n",
    "for i in range(len(ax.patches)):\n",
    "    if i != 3:\n",
    "        ax.patches[i].set_facecolor(\"grey\")\n",
    "plt.title(\"Most Common Difficulty Level\")\n",
    "plt.xlabel(\"Difficulty Level\")"
   ]
  },
  {
   "cell_type": "code",
   "execution_count": 18,
   "metadata": {},
   "outputs": [
    {
     "data": {
      "image/png": "[encoded data removed]",
      "text/plain": [
       "<Figure size 800x600 with 1 Axes>"
      ]
     },
     "metadata": {},
     "output_type": "display_data"
    }
   ],
   "source": [
    "fig, ax = plt.subplots(figsize=(8, 6))\n",
    "\n",
    "ax = (\n",
    "    courses.groupby(\"course_difficulty\")\n",
    "    .course_students_enrolled.mean()\n",
    "    .sort_values()\n",
    "    .plot(kind=\"barh\")\n",
    ")\n",
    "\n",
    "for i in range(len(ax.patches)):\n",
    "    if i != 3:\n",
    "        ax.patches[i].set_facecolor(\"grey\")\n",
    "\n",
    "\n",
    "fig.suptitle(\n",
    "    f\"Average enrolled count: {courses['course_students_enrolled'].mean():,.0f}\\n\",\n",
    "    ha=\"right\",\n",
    ")\n",
    "plt.title(\"Most Popular Difficulty Level\")\n",
    "plt.tight_layout()\n",
    "plt.show()"
   ]
  },
  {
   "cell_type": "code",
   "execution_count": null,
   "metadata": {},
   "outputs": [],
   "source": [
    "# Extract top 20 organizations by courses count\n",
    "top_org = (\n",
    "    courses[\"course_organization\"]\n",
    "    .value_counts()\n",
    "    .sort_values(ascending=False)\n",
    "    .head(20)\n",
    "    .index\n",
    ")\n",
    "top_org_courses = courses[courses.course_organization.isin(top_org)]\n",
    "\n",
    "# Data for plot 1\n",
    "courses_count_by_difficulty = top_org_courses.pivot_table(\n",
    "    index=\"course_organization\",\n",
    "    columns=\"course_difficulty\",\n",
    "    aggfunc=\"size\",\n",
    "    fill_value=0,\n",
    ").reindex(columns=[\"Mixed\", \"Beginner\", \"Intermediate\", \"Advanced\"])\n",
    "\n",
    "courses_count_by_difficulty[\"total\"] = courses_count_by_difficulty.sum(axis=1)\n",
    "courses_count_by_difficulty = courses_count_by_difficulty.sort_values(\n",
    "    by=[\"total\", \"Mixed\"], ascending=True\n",
    ")  # Ordering by total\n",
    "\n",
    "# Extract top 20 organizations by enrolled students count\n",
    "top_org_by_enrolled = (\n",
    "    courses.groupby(\"course_organization\")\n",
    "    .course_students_enrolled.sum()\n",
    "    .sort_values(ascending=False)[:20]\n",
    "    .index\n",
    ")\n",
    "top_enrolled_courses = courses[courses.course_organization.isin(top_org_by_enrolled)]\n",
    "\n",
    "pivot_table_enrolled = top_enrolled_courses.pivot_table(\n",
    "    index=\"course_organization\",\n",
    "    columns=\"course_difficulty\",\n",
    "    values=\"course_students_enrolled\",\n",
    "    aggfunc=\"sum\",\n",
    "    fill_value=0,\n",
    ").reindex(  # Columns order\n",
    "    columns=[\n",
    "        \"Mixed\",\n",
    "        \"Beginner\",\n",
    "        \"Intermediate\",\n",
    "        \"Advanced\",\n",
    "    ]\n",
    ")\n",
    "\n",
    "pivot_table_enrolled[\"total\"] = pivot_table_enrolled.sum(axis=1)  # Finding total\n",
    "pivot_table_enrolled = pivot_table_enrolled.sort_values(  # Ordering by total\n",
    "    by=[\"total\", \"Mixed\"], ascending=True\n",
    ")"
   ]
  },
  {
   "cell_type": "code",
   "execution_count": null,
   "metadata": {},
   "outputs": [
    {
     "data": {
      "image/png": "[encoded data removed]",
      "text/plain": [
       "<Figure size 1500x600 with 2 Axes>"
      ]
     },
     "metadata": {},
     "output_type": "display_data"
    }
   ],
   "source": [
    "fig, axes = plt.subplots(1, 2, figsize=(15, 6))\n",
    "\n",
    "courses_count_by_difficulty.loc[:, courses_count_by_difficulty.columns != \"total\"].plot(\n",
    "    kind=\"barh\", stacked=True, ax=axes[0]\n",
    ")\n",
    "axes[0].set_title(\"Top 20 Organizations by Number of Courses\")\n",
    "axes[0].set_ylabel(\"Organization\")\n",
    "axes[0].set_xlabel(\"Number of Courses\")\n",
    "axes[0].legend(title=\"Difficulty\", loc=\"lower right\")\n",
    "\n",
    "# Plot 2: Top organizations by enrolled count\n",
    "\n",
    "\n",
    "pivot_table_enrolled.loc[:, pivot_table_enrolled.columns != \"total\"].plot(\n",
    "    kind=\"barh\",\n",
    "    stacked=True,\n",
    "    ax=axes[1],\n",
    ")\n",
    "axes[1].set_title(\"Top 20 Organizations by Popularity\")\n",
    "axes[1].set_xlabel(\"Number of Students Enrolled(mln)\")\n",
    "axes[1].set_ylabel(\"\")\n",
    "\n",
    "fig.tight_layout()"
   ]
  },
  {
   "cell_type": "code",
   "execution_count": 128,
   "metadata": {},
   "outputs": [
    {
     "data": {
      "application/vnd.plotly.v1+json": {
       "config": {
        "plotlyServerURL": "https://plot.ly"
       },
       "data": [
        {
         "legendgroup": "Mixed",
         "marker": {
          "color": "#1f77b4"
         },
         "name": "Mixed",
         "orientation": "h",
         "type": "bar",
         "x": [
          26,
          12,
          0,
          10,
          8,
          6,
          0,
          5,
          3,
          0,
          0,
          7,
          0,
          1,
          3,
          4,
          2,
          0,
          2,
          4
         ],
         "xaxis": "x",
         "y": [
          "University of Pennsylvania",
          "University of Michigan",
          "Google Cloud",
          "Duke University",
          "Johns Hopkins University",
          "University of California, Irvine",
          "IBM",
          "University of Illinois at Urbana-Champaign",
          "University of California, Davis",
          "University of Colorado Boulder",
          "University of Virginia",
          "Yale University",
          "deeplearning.ai",
          "Stanford University",
          "Universidad Nacional Autónoma de México",
          "Berklee College of Music",
          "Rice University",
          "University of Colorado System",
          "University of Toronto",
          "University of Minnesota"
         ],
         "yaxis": "y"
        },
        {
         "legendgroup": "Beginner",
         "marker": {
          "color": "#aec7e8"
         },
         "name": "Beginner",
         "orientation": "h",
         "type": "bar",
         "x": [
          28,
          19,
          8,
          16,
          17,
          15,
          16,
          7,
          14,
          11,
          18,
          9,
          3,
          8,
          9,
          8,
          8,
          10,
          6,
          4
         ],
         "xaxis": "x",
         "y": [
          "University of Pennsylvania",
          "University of Michigan",
          "Google Cloud",
          "Duke University",
          "Johns Hopkins University",
          "University of California, Irvine",
          "IBM",
          "University of Illinois at Urbana-Champaign",
          "University of California, Davis",
          "University of Colorado Boulder",
          "University of Virginia",
          "Yale University",
          "deeplearning.ai",
          "Stanford University",
          "Universidad Nacional Autónoma de México",
          "Berklee College of Music",
          "Rice University",
          "University of Colorado System",
          "University of Toronto",
          "University of Minnesota"
         ],
         "yaxis": "y"
        },
        {
         "legendgroup": "Intermediate",
         "marker": {
          "color": "#98df8a"
         },
         "name": "Intermediate",
         "orientation": "h",
         "type": "bar",
         "x": [
          5,
          10,
          24,
          1,
          3,
          5,
          4,
          10,
          4,
          6,
          1,
          1,
          13,
          4,
          2,
          2,
          3,
          2,
          1,
          3
         ],
         "xaxis": "x",
         "y": [
          "University of Pennsylvania",
          "University of Michigan",
          "Google Cloud",
          "Duke University",
          "Johns Hopkins University",
          "University of California, Irvine",
          "IBM",
          "University of Illinois at Urbana-Champaign",
          "University of California, Davis",
          "University of Colorado Boulder",
          "University of Virginia",
          "Yale University",
          "deeplearning.ai",
          "Stanford University",
          "Universidad Nacional Autónoma de México",
          "Berklee College of Music",
          "Rice University",
          "University of Colorado System",
          "University of Toronto",
          "University of Minnesota"
         ],
         "yaxis": "y"
        },
        {
         "legendgroup": "Advanced",
         "marker": {
          "color": "#d62728"
         },
         "name": "Advanced",
         "orientation": "h",
         "type": "bar",
         "x": [
          0,
          0,
          2,
          1,
          0,
          1,
          2,
          0,
          0,
          2,
          0,
          0,
          0,
          3,
          0,
          0,
          0,
          1,
          2,
          0
         ],
         "xaxis": "x",
         "y": [
          "University of Pennsylvania",
          "University of Michigan",
          "Google Cloud",
          "Duke University",
          "Johns Hopkins University",
          "University of California, Irvine",
          "IBM",
          "University of Illinois at Urbana-Champaign",
          "University of California, Davis",
          "University of Colorado Boulder",
          "University of Virginia",
          "Yale University",
          "deeplearning.ai",
          "Stanford University",
          "Universidad Nacional Autónoma de México",
          "Berklee College of Music",
          "Rice University",
          "University of Colorado System",
          "University of Toronto",
          "University of Minnesota"
         ],
         "yaxis": "y"
        },
        {
         "legendgroup": "Mixed",
         "marker": {
          "color": "#1f77b4"
         },
         "name": "Mixed",
         "orientation": "h",
         "type": "bar",
         "x": [
          3698300,
          2964500,
          3200000,
          1065000,
          1189000,
          1067000,
          2983000,
          0,
          0,
          0,
          1116000,
          217000,
          0,
          345000,
          151000,
          533000,
          222000,
          0,
          575000,
          240000
         ],
         "xaxis": "x2",
         "y": [
          "University of Michigan",
          "University of Pennsylvania",
          "Stanford University",
          "University of California, Irvine",
          "Johns Hopkins University",
          "Duke University",
          "Yale University",
          "IBM",
          "deeplearning.ai",
          "Google Cloud",
          "Georgia Institute of Technology",
          "University of Illinois at Urbana-Champaign",
          "University of Virginia",
          "Berklee College of Music",
          "University of California, Davis",
          "Universidad Nacional Autónoma de México",
          "University of California San Diego",
          "Google",
          "The University of Edinburgh",
          "University of Washington"
         ],
         "yaxis": "y2"
        },
        {
         "legendgroup": "Beginner",
         "marker": {
          "color": "#aec7e8"
         },
         "name": "Beginner",
         "orientation": "h",
         "type": "bar",
         "x": [
          2436900,
          2483000,
          955000,
          2855000,
          2339900,
          2722700,
          933000,
          2264900,
          840000,
          145900,
          697000,
          982000,
          1386000,
          786000,
          978900,
          618900,
          324000,
          1153000,
          300000,
          110000
         ],
         "xaxis": "x2",
         "y": [
          "University of Michigan",
          "University of Pennsylvania",
          "Stanford University",
          "University of California, Irvine",
          "Johns Hopkins University",
          "Duke University",
          "Yale University",
          "IBM",
          "deeplearning.ai",
          "Google Cloud",
          "Georgia Institute of Technology",
          "University of Illinois at Urbana-Champaign",
          "University of Virginia",
          "Berklee College of Music",
          "University of California, Davis",
          "Universidad Nacional Autónoma de México",
          "University of California San Diego",
          "Google",
          "The University of Edinburgh",
          "University of Washington"
         ],
         "yaxis": "y2"
        },
        {
         "legendgroup": "Intermediate",
         "marker": {
          "color": "#98df8a"
         },
         "name": "Intermediate",
         "orientation": "h",
         "type": "bar",
         "x": [
          1302500,
          53800,
          578000,
          354000,
          770000,
          7900,
          36000,
          368000,
          2023400,
          2407400,
          0,
          480000,
          170000,
          157000,
          148800,
          56000,
          620000,
          0,
          0,
          487000
         ],
         "xaxis": "x2",
         "y": [
          "University of Michigan",
          "University of Pennsylvania",
          "Stanford University",
          "University of California, Irvine",
          "Johns Hopkins University",
          "Duke University",
          "Yale University",
          "IBM",
          "deeplearning.ai",
          "Google Cloud",
          "Georgia Institute of Technology",
          "University of Illinois at Urbana-Champaign",
          "University of Virginia",
          "Berklee College of Music",
          "University of California, Davis",
          "Universidad Nacional Autónoma de México",
          "University of California San Diego",
          "Google",
          "The University of Edinburgh",
          "University of Washington"
         ],
         "yaxis": "y2"
        },
        {
         "legendgroup": "Advanced",
         "marker": {
          "color": "#d62728"
         },
         "name": "Advanced",
         "orientation": "h",
         "type": "bar",
         "x": [
          0,
          0,
          121000,
          52000,
          0,
          170000,
          0,
          323500,
          0,
          51000,
          0,
          0,
          0,
          0,
          0,
          0,
          0,
          0,
          0,
          0
         ],
         "xaxis": "x2",
         "y": [
          "University of Michigan",
          "University of Pennsylvania",
          "Stanford University",
          "University of California, Irvine",
          "Johns Hopkins University",
          "Duke University",
          "Yale University",
          "IBM",
          "deeplearning.ai",
          "Google Cloud",
          "Georgia Institute of Technology",
          "University of Illinois at Urbana-Champaign",
          "University of Virginia",
          "Berklee College of Music",
          "University of California, Davis",
          "Universidad Nacional Autónoma de México",
          "University of California San Diego",
          "Google",
          "The University of Edinburgh",
          "University of Washington"
         ],
         "yaxis": "y2"
        }
       ],
       "layout": {
        "annotations": [
         {
          "font": {
           "size": 16
          },
          "showarrow": false,
          "text": "Top 20 Organizations by Number of Courses",
          "x": 0.225,
          "xanchor": "center",
          "xref": "paper",
          "y": 1,
          "yanchor": "bottom",
          "yref": "paper"
         },
         {
          "font": {
           "size": 16
          },
          "showarrow": false,
          "text": "Top 20 Organizations by Popularity",
          "x": 0.775,
          "xanchor": "center",
          "xref": "paper",
          "y": 1,
          "yanchor": "bottom",
          "yref": "paper"
         }
        ],
        "barmode": "stack",
        "height": 600,
        "showlegend": true,
        "template": {
         "data": {
          "bar": [
           {
            "error_x": {
             "color": "#2a3f5f"
            },
            "error_y": {
             "color": "#2a3f5f"
            },
            "marker": {
             "line": {
              "color": "#E5ECF6",
              "width": 0.5
             },
             "pattern": {
              "fillmode": "overlay",
              "size": 10,
              "solidity": 0.2
             }
            },
            "type": "bar"
           }
          ],
          "barpolar": [
           {
            "marker": {
             "line": {
              "color": "#E5ECF6",
              "width": 0.5
             },
             "pattern": {
              "fillmode": "overlay",
              "size": 10,
              "solidity": 0.2
             }
            },
            "type": "barpolar"
           }
          ],
          "carpet": [
           {
            "aaxis": {
             "endlinecolor": "#2a3f5f",
             "gridcolor": "white",
             "linecolor": "white",
             "minorgridcolor": "white",
             "startlinecolor": "#2a3f5f"
            },
            "baxis": {
             "endlinecolor": "#2a3f5f",
             "gridcolor": "white",
             "linecolor": "white",
             "minorgridcolor": "white",
             "startlinecolor": "#2a3f5f"
            },
            "type": "carpet"
           }
          ],
          "choropleth": [
           {
            "colorbar": {
             "outlinewidth": 0,
             "ticks": ""
            },
            "type": "choropleth"
           }
          ],
          "contour": [
           {
            "colorbar": {
             "outlinewidth": 0,
             "ticks": ""
            },
            "colorscale": [
             [
              0,
              "#0d0887"
             ],
             [
              0.1111111111111111,
              "#46039f"
             ],
             [
              0.2222222222222222,
              "#7201a8"
             ],
             [
              0.3333333333333333,
              "#9c179e"
             ],
             [
              0.4444444444444444,
              "#bd3786"
             ],
             [
              0.5555555555555556,
              "#d8576b"
             ],
             [
              0.6666666666666666,
              "#ed7953"
             ],
             [
              0.7777777777777778,
              "#fb9f3a"
             ],
             [
              0.8888888888888888,
              "#fdca26"
             ],
             [
              1,
              "#f0f921"
             ]
            ],
            "type": "contour"
           }
          ],
          "contourcarpet": [
           {
            "colorbar": {
             "outlinewidth": 0,
             "ticks": ""
            },
            "type": "contourcarpet"
           }
          ],
          "heatmap": [
           {
            "colorbar": {
             "outlinewidth": 0,
             "ticks": ""
            },
            "colorscale": [
             [
              0,
              "#0d0887"
             ],
             [
              0.1111111111111111,
              "#46039f"
             ],
             [
              0.2222222222222222,
              "#7201a8"
             ],
             [
              0.3333333333333333,
              "#9c179e"
             ],
             [
              0.4444444444444444,
              "#bd3786"
             ],
             [
              0.5555555555555556,
              "#d8576b"
             ],
             [
              0.6666666666666666,
              "#ed7953"
             ],
             [
              0.7777777777777778,
              "#fb9f3a"
             ],
             [
              0.8888888888888888,
              "#fdca26"
             ],
             [
              1,
              "#f0f921"
             ]
            ],
            "type": "heatmap"
           }
          ],
          "heatmapgl": [
           {
            "colorbar": {
             "outlinewidth": 0,
             "ticks": ""
            },
            "colorscale": [
             [
              0,
              "#0d0887"
             ],
             [
              0.1111111111111111,
              "#46039f"
             ],
             [
              0.2222222222222222,
              "#7201a8"
             ],
             [
              0.3333333333333333,
              "#9c179e"
             ],
             [
              0.4444444444444444,
              "#bd3786"
             ],
             [
              0.5555555555555556,
              "#d8576b"
             ],
             [
              0.6666666666666666,
              "#ed7953"
             ],
             [
              0.7777777777777778,
              "#fb9f3a"
             ],
             [
              0.8888888888888888,
              "#fdca26"
             ],
             [
              1,
              "#f0f921"
             ]
            ],
            "type": "heatmapgl"
           }
          ],
          "histogram": [
           {
            "marker": {
             "pattern": {
              "fillmode": "overlay",
              "size": 10,
              "solidity": 0.2
             }
            },
            "type": "histogram"
           }
          ],
          "histogram2d": [
           {
            "colorbar": {
             "outlinewidth": 0,
             "ticks": ""
            },
            "colorscale": [
             [
              0,
              "#0d0887"
             ],
             [
              0.1111111111111111,
              "#46039f"
             ],
             [
              0.2222222222222222,
              "#7201a8"
             ],
             [
              0.3333333333333333,
              "#9c179e"
             ],
             [
              0.4444444444444444,
              "#bd3786"
             ],
             [
              0.5555555555555556,
              "#d8576b"
             ],
             [
              0.6666666666666666,
              "#ed7953"
             ],
             [
              0.7777777777777778,
              "#fb9f3a"
             ],
             [
              0.8888888888888888,
              "#fdca26"
             ],
             [
              1,
              "#f0f921"
             ]
            ],
            "type": "histogram2d"
           }
          ],
          "histogram2dcontour": [
           {
            "colorbar": {
             "outlinewidth": 0,
             "ticks": ""
            },
            "colorscale": [
             [
              0,
              "#0d0887"
             ],
             [
              0.1111111111111111,
              "#46039f"
             ],
             [
              0.2222222222222222,
              "#7201a8"
             ],
             [
              0.3333333333333333,
              "#9c179e"
             ],
             [
              0.4444444444444444,
              "#bd3786"
             ],
             [
              0.5555555555555556,
              "#d8576b"
             ],
             [
              0.6666666666666666,
              "#ed7953"
             ],
             [
              0.7777777777777778,
              "#fb9f3a"
             ],
             [
              0.8888888888888888,
              "#fdca26"
             ],
             [
              1,
              "#f0f921"
             ]
            ],
            "type": "histogram2dcontour"
           }
          ],
          "mesh3d": [
           {
            "colorbar": {
             "outlinewidth": 0,
             "ticks": ""
            },
            "type": "mesh3d"
           }
          ],
          "parcoords": [
           {
            "line": {
             "colorbar": {
              "outlinewidth": 0,
              "ticks": ""
             }
            },
            "type": "parcoords"
           }
          ],
          "pie": [
           {
            "automargin": true,
            "type": "pie"
           }
          ],
          "scatter": [
           {
            "fillpattern": {
             "fillmode": "overlay",
             "size": 10,
             "solidity": 0.2
            },
            "type": "scatter"
           }
          ],
          "scatter3d": [
           {
            "line": {
             "colorbar": {
              "outlinewidth": 0,
              "ticks": ""
             }
            },
            "marker": {
             "colorbar": {
              "outlinewidth": 0,
              "ticks": ""
             }
            },
            "type": "scatter3d"
           }
          ],
          "scattercarpet": [
           {
            "marker": {
             "colorbar": {
              "outlinewidth": 0,
              "ticks": ""
             }
            },
            "type": "scattercarpet"
           }
          ],
          "scattergeo": [
           {
            "marker": {
             "colorbar": {
              "outlinewidth": 0,
              "ticks": ""
             }
            },
            "type": "scattergeo"
           }
          ],
          "scattergl": [
           {
            "marker": {
             "colorbar": {
              "outlinewidth": 0,
              "ticks": ""
             }
            },
            "type": "scattergl"
           }
          ],
          "scattermapbox": [
           {
            "marker": {
             "colorbar": {
              "outlinewidth": 0,
              "ticks": ""
             }
            },
            "type": "scattermapbox"
           }
          ],
          "scatterpolar": [
           {
            "marker": {
             "colorbar": {
              "outlinewidth": 0,
              "ticks": ""
             }
            },
            "type": "scatterpolar"
           }
          ],
          "scatterpolargl": [
           {
            "marker": {
             "colorbar": {
              "outlinewidth": 0,
              "ticks": ""
             }
            },
            "type": "scatterpolargl"
           }
          ],
          "scatterternary": [
           {
            "marker": {
             "colorbar": {
              "outlinewidth": 0,
              "ticks": ""
             }
            },
            "type": "scatterternary"
           }
          ],
          "surface": [
           {
            "colorbar": {
             "outlinewidth": 0,
             "ticks": ""
            },
            "colorscale": [
             [
              0,
              "#0d0887"
             ],
             [
              0.1111111111111111,
              "#46039f"
             ],
             [
              0.2222222222222222,
              "#7201a8"
             ],
             [
              0.3333333333333333,
              "#9c179e"
             ],
             [
              0.4444444444444444,
              "#bd3786"
             ],
             [
              0.5555555555555556,
              "#d8576b"
             ],
             [
              0.6666666666666666,
              "#ed7953"
             ],
             [
              0.7777777777777778,
              "#fb9f3a"
             ],
             [
              0.8888888888888888,
              "#fdca26"
             ],
             [
              1,
              "#f0f921"
             ]
            ],
            "type": "surface"
           }
          ],
          "table": [
           {
            "cells": {
             "fill": {
              "color": "#EBF0F8"
             },
             "line": {
              "color": "white"
             }
            },
            "header": {
             "fill": {
              "color": "#C8D4E3"
             },
             "line": {
              "color": "white"
             }
            },
            "type": "table"
           }
          ]
         },
         "layout": {
          "annotationdefaults": {
           "arrowcolor": "#2a3f5f",
           "arrowhead": 0,
           "arrowwidth": 1
          },
          "autotypenumbers": "strict",
          "coloraxis": {
           "colorbar": {
            "outlinewidth": 0,
            "ticks": ""
           }
          },
          "colorscale": {
           "diverging": [
            [
             0,
             "#8e0152"
            ],
            [
             0.1,
             "#c51b7d"
            ],
            [
             0.2,
             "#de77ae"
            ],
            [
             0.3,
             "#f1b6da"
            ],
            [
             0.4,
             "#fde0ef"
            ],
            [
             0.5,
             "#f7f7f7"
            ],
            [
             0.6,
             "#e6f5d0"
            ],
            [
             0.7,
             "#b8e186"
            ],
            [
             0.8,
             "#7fbc41"
            ],
            [
             0.9,
             "#4d9221"
            ],
            [
             1,
             "#276419"
            ]
           ],
           "sequential": [
            [
             0,
             "#0d0887"
            ],
            [
             0.1111111111111111,
             "#46039f"
            ],
            [
             0.2222222222222222,
             "#7201a8"
            ],
            [
             0.3333333333333333,
             "#9c179e"
            ],
            [
             0.4444444444444444,
             "#bd3786"
            ],
            [
             0.5555555555555556,
             "#d8576b"
            ],
            [
             0.6666666666666666,
             "#ed7953"
            ],
            [
             0.7777777777777778,
             "#fb9f3a"
            ],
            [
             0.8888888888888888,
             "#fdca26"
            ],
            [
             1,
             "#f0f921"
            ]
           ],
           "sequentialminus": [
            [
             0,
             "#0d0887"
            ],
            [
             0.1111111111111111,
             "#46039f"
            ],
            [
             0.2222222222222222,
             "#7201a8"
            ],
            [
             0.3333333333333333,
             "#9c179e"
            ],
            [
             0.4444444444444444,
             "#bd3786"
            ],
            [
             0.5555555555555556,
             "#d8576b"
            ],
            [
             0.6666666666666666,
             "#ed7953"
            ],
            [
             0.7777777777777778,
             "#fb9f3a"
            ],
            [
             0.8888888888888888,
             "#fdca26"
            ],
            [
             1,
             "#f0f921"
            ]
           ]
          },
          "colorway": [
           "#636efa",
           "#EF553B",
           "#00cc96",
           "#ab63fa",
           "#FFA15A",
           "#19d3f3",
           "#FF6692",
           "#B6E880",
           "#FF97FF",
           "#FECB52"
          ],
          "font": {
           "color": "#2a3f5f"
          },
          "geo": {
           "bgcolor": "white",
           "lakecolor": "white",
           "landcolor": "#E5ECF6",
           "showlakes": true,
           "showland": true,
           "subunitcolor": "white"
          },
          "hoverlabel": {
           "align": "left"
          },
          "hovermode": "closest",
          "mapbox": {
           "style": "light"
          },
          "paper_bgcolor": "white",
          "plot_bgcolor": "#E5ECF6",
          "polar": {
           "angularaxis": {
            "gridcolor": "white",
            "linecolor": "white",
            "ticks": ""
           },
           "bgcolor": "#E5ECF6",
           "radialaxis": {
            "gridcolor": "white",
            "linecolor": "white",
            "ticks": ""
           }
          },
          "scene": {
           "xaxis": {
            "backgroundcolor": "#E5ECF6",
            "gridcolor": "white",
            "gridwidth": 2,
            "linecolor": "white",
            "showbackground": true,
            "ticks": "",
            "zerolinecolor": "white"
           },
           "yaxis": {
            "backgroundcolor": "#E5ECF6",
            "gridcolor": "white",
            "gridwidth": 2,
            "linecolor": "white",
            "showbackground": true,
            "ticks": "",
            "zerolinecolor": "white"
           },
           "zaxis": {
            "backgroundcolor": "#E5ECF6",
            "gridcolor": "white",
            "gridwidth": 2,
            "linecolor": "white",
            "showbackground": true,
            "ticks": "",
            "zerolinecolor": "white"
           }
          },
          "shapedefaults": {
           "line": {
            "color": "#2a3f5f"
           }
          },
          "ternary": {
           "aaxis": {
            "gridcolor": "white",
            "linecolor": "white",
            "ticks": ""
           },
           "baxis": {
            "gridcolor": "white",
            "linecolor": "white",
            "ticks": ""
           },
           "bgcolor": "#E5ECF6",
           "caxis": {
            "gridcolor": "white",
            "linecolor": "white",
            "ticks": ""
           }
          },
          "title": {
           "x": 0.05
          },
          "xaxis": {
           "automargin": true,
           "gridcolor": "white",
           "linecolor": "white",
           "ticks": "",
           "title": {
            "standoff": 15
           },
           "zerolinecolor": "white",
           "zerolinewidth": 2
          },
          "yaxis": {
           "automargin": true,
           "gridcolor": "white",
           "linecolor": "white",
           "ticks": "",
           "title": {
            "standoff": 15
           },
           "zerolinecolor": "white",
           "zerolinewidth": 2
          }
         }
        },
        "title": {
         "text": "Top 20 Organizations: Courses and Popularity"
        },
        "width": 1400,
        "xaxis": {
         "anchor": "y",
         "domain": [
          0,
          0.45
         ],
         "showgrid": true,
         "tickmode": "array",
         "title": {
          "text": "Number of Courses"
         }
        },
        "xaxis2": {
         "anchor": "y2",
         "domain": [
          0.55,
          1
         ],
         "showgrid": true,
         "tickmode": "array",
         "title": {
          "text": "Number of Students Enrolled(mln)"
         }
        },
        "yaxis": {
         "anchor": "x",
         "domain": [
          0,
          1
         ]
        },
        "yaxis2": {
         "anchor": "x2",
         "domain": [
          0,
          1
         ]
        }
       }
      }
     },
     "metadata": {},
     "output_type": "display_data"
    }
   ],
   "source": [
    "import plotly.graph_objects as go\n",
    "from plotly.subplots import make_subplots\n",
    "\n",
    "# Define improved colors for difficulties\n",
    "colors = {\n",
    "    \"Mixed\": \"#1f77b4\",  # Dark Blue\n",
    "    \"Beginner\": \"#aec7e8\",  # Light Blue\n",
    "    \"Intermediate\": \"#98df8a\",  # Light Green\n",
    "    \"Advanced\": \"#d62728\",  # Dark Red\n",
    "}\n",
    "\n",
    "# Prepare data for Plot 1 (Top 20 Organizations by Number of Courses)\n",
    "top_org = (\n",
    "    courses[\"course_organization\"]\n",
    "    .value_counts()\n",
    "    .sort_values(ascending=False)\n",
    "    .head(20)\n",
    "    .index\n",
    ")\n",
    "top_courses = courses[courses.course_organization.isin(top_org)]\n",
    "\n",
    "# Manually aggregate courses by difficulty\n",
    "courses_by_difficulty = {\n",
    "    \"Mixed\": [],\n",
    "    \"Beginner\": [],\n",
    "    \"Intermediate\": [],\n",
    "    \"Advanced\": [],\n",
    "}\n",
    "\n",
    "# Manually aggregate data for each difficulty\n",
    "for org in top_org:\n",
    "    org_courses = top_courses[top_courses[\"course_organization\"] == org]\n",
    "    for difficulty in [\"Mixed\", \"Beginner\", \"Intermediate\", \"Advanced\"]:\n",
    "        count = org_courses[org_courses[\"course_difficulty\"] == difficulty].shape[0]\n",
    "        courses_by_difficulty[difficulty].append(count)\n",
    "\n",
    "# Prepare data for Plot 2 (Top 20 Organizations by Popularity)\n",
    "top_org_enrolled = (\n",
    "    courses.groupby(\"course_organization\")\n",
    "    .course_students_enrolled.sum()\n",
    "    .sort_values(ascending=False)[:20]\n",
    "    .index\n",
    ")\n",
    "top_enrolled = courses[courses.course_organization.isin(top_org_enrolled)]\n",
    "\n",
    "# Manually aggregate student enrollments by difficulty\n",
    "enrollment_by_difficulty = {\n",
    "    \"Mixed\": [],\n",
    "    \"Beginner\": [],\n",
    "    \"Intermediate\": [],\n",
    "    \"Advanced\": [],\n",
    "}\n",
    "\n",
    "# Manually aggregate enrollment data for each difficulty\n",
    "for org in top_org_enrolled:\n",
    "    org_courses = top_enrolled[top_enrolled[\"course_organization\"] == org]\n",
    "    for difficulty in [\"Mixed\", \"Beginner\", \"Intermediate\", \"Advanced\"]:\n",
    "        total_enrolled = org_courses[org_courses[\"course_difficulty\"] == difficulty][\n",
    "            \"course_students_enrolled\"\n",
    "        ].sum()\n",
    "        enrollment_by_difficulty[difficulty].append(total_enrolled)\n",
    "\n",
    "# Create subplots with 1 row and 2 columns, shared y-axes set to False\n",
    "fig = make_subplots(\n",
    "    rows=1,\n",
    "    cols=2,\n",
    "    subplot_titles=(\n",
    "        \"Top 20 Organizations by Number of Courses\",\n",
    "        \"Top 20 Organizations by Popularity\",\n",
    "    ),\n",
    "    shared_yaxes=False,  # Set this to False to not share Y-axes\n",
    ")\n",
    "\n",
    "# Add Plot 1: Top 20 Organizations by Number of Courses\n",
    "for difficulty in [\"Mixed\", \"Beginner\", \"Intermediate\", \"Advanced\"]:\n",
    "    fig.add_trace(\n",
    "        go.Bar(\n",
    "            y=top_org,\n",
    "            x=courses_by_difficulty[difficulty],\n",
    "            name=difficulty,\n",
    "            orientation=\"h\",\n",
    "            marker_color=colors[difficulty],\n",
    "            legendgroup=difficulty,  # Group bars with the same difficulty\n",
    "        ),\n",
    "        row=1,\n",
    "        col=1,\n",
    "    )\n",
    "\n",
    "# Add Plot 2: Top 20 Organizations by Popularity\n",
    "for difficulty in [\"Mixed\", \"Beginner\", \"Intermediate\", \"Advanced\"]:\n",
    "    fig.add_trace(\n",
    "        go.Bar(\n",
    "            y=top_org_enrolled,\n",
    "            x=enrollment_by_difficulty[difficulty],\n",
    "            name=difficulty,\n",
    "            orientation=\"h\",\n",
    "            marker_color=colors[difficulty],\n",
    "            legendgroup=difficulty,  # Group bars with the same difficulty\n",
    "        ),\n",
    "        row=1,\n",
    "        col=2,\n",
    "    )\n",
    "\n",
    "# Update layout for both subplots\n",
    "fig.update_layout(\n",
    "    title_text=\"Top 20 Organizations: Courses and Popularity\",\n",
    "    barmode=\"stack\",\n",
    "    showlegend=True,\n",
    "    height=600,\n",
    "    width=1400,\n",
    "    xaxis=dict(title=\"Number of Courses\", showgrid=True, tickmode=\"array\"),\n",
    "    xaxis2=dict(\n",
    "        title=\"Number of Students Enrolled (mln)\", showgrid=True, tickmode=\"array\"\n",
    "    ),\n",
    "    xaxis_title=\"Number of Courses\",\n",
    "    xaxis2_title=\"Number of Students Enrolled(mln)\",\n",
    ")\n",
    "\n",
    "fig.show()"
   ]
  },
  {
   "cell_type": "code",
   "execution_count": 123,
   "metadata": {},
   "outputs": [
    {
     "data": {
      "image/png": "[encoded data removed]",
      "text/plain": [
       "<Figure size 1300x600 with 1 Axes>"
      ]
     },
     "metadata": {},
     "output_type": "display_data"
    }
   ],
   "source": [
    "top_20_courses = (\n",
    "    courses.groupby([\"course_organization\", \"course_title\"])\n",
    "    .course_students_enrolled.sum()\n",
    "    .sort_values(ascending=False)[:20]\n",
    ")\n",
    "\n",
    "# Reverse the order for horizontal bar chart\n",
    "top_20_courses = top_20_courses.iloc[::-1]\n",
    "\n",
    "# Plot the bar chart\n",
    "ax = top_20_courses.plot(kind=\"barh\", figsize=(13, 6))\n",
    "plt.ylabel(\"Course Organization and Title\")\n",
    "plt.xlabel(\"Number of Enrolled Students(mln)\")\n",
    "plt.title(\"Top 20 Most Popular Courses\")\n",
    "\n",
    "# Highlight specific labels\n",
    "highlight_keywords = [\"Machine Learning\", \"Data Science\", \"Deep Learning\"]\n",
    "for label in ax.get_yticklabels():\n",
    "    for keyword in highlight_keywords:\n",
    "        if keyword in label.get_text():\n",
    "            label.set_color(\"blue\")\n",
    "            label.set_fontweight(\"bold\")\n",
    "\n",
    "for i in range(len(ax.patches) - 4):\n",
    "    ax.patches[i].set_facecolor(\"grey\")\n",
    "\n",
    "plt.tight_layout()\n",
    "plt.show()"
   ]
  },
  {
   "cell_type": "markdown",
   "metadata": {},
   "source": [
    "All **Data Science** related courses are marked <span style=\"color: blue; font-weight: bold;\">blue</span>."
   ]
  },
  {
   "cell_type": "code",
   "execution_count": null,
   "metadata": {},
   "outputs": [],
   "source": []
  }
 ],
 "metadata": {
  "kernelspec": {
   "display_name": "Python 3",
   "language": "python",
   "name": "python3"
  },
  "language_info": {
   "codemirror_mode": {
    "name": "ipython",
    "version": 3
   },
   "file_extension": ".py",
   "mimetype": "text/x-python",
   "name": "python",
   "nbconvert_exporter": "python",
   "pygments_lexer": "ipython3",
   "version": "3.10.7"
  }
 },
 "nbformat": 4,
 "nbformat_minor": 2
}
